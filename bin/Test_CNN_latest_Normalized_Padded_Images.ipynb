{
 "cells": [
  {
   "cell_type": "markdown",
   "id": "eba933ec",
   "metadata": {},
   "source": [
    "## Import all required libraries and functions "
   ]
  },
  {
   "cell_type": "code",
   "execution_count": 1,
   "id": "fd6cc288",
   "metadata": {},
   "outputs": [],
   "source": [
    "# Import necessary libraries\n",
    "import os\n",
    "import time\n",
    "import numpy as np\n",
    "import tensorflow as tf\n",
    "from tensorflow.keras.models import Model\n",
    "from tensorflow.keras.preprocessing.image import ImageDataGenerator\n",
    "from tensorflow.keras.optimizers import Adam\n",
    "from tensorflow.keras.layers import Input, Dense, Conv2D, MaxPooling2D, GlobalAveragePooling2D, Lambda, Flatten, GlobalMaxPooling2D\n",
    "from tensorflow.keras.applications import VGG16, ResNet50, InceptionV3\n",
    "\n",
    "import torch\n",
    "from torchvision.models.detection import fasterrcnn_resnet50_fpn, retinanet\n",
    "from torchvision.transforms import functional as F"
   ]
  },
  {
   "cell_type": "markdown",
   "id": "82ea8fd7",
   "metadata": {},
   "source": [
    "<b> saving the Start Time"
   ]
  },
  {
   "cell_type": "code",
   "execution_count": 2,
   "id": "841e7ebb",
   "metadata": {},
   "outputs": [],
   "source": [
    "main_start_time=time.time()"
   ]
  },
  {
   "cell_type": "markdown",
   "id": "4242303b",
   "metadata": {},
   "source": [
    "## Code for CNN\n",
    "<b> 1. Setup and Preprocessing"
   ]
  },
  {
   "cell_type": "code",
   "execution_count": 3,
   "id": "78091115",
   "metadata": {},
   "outputs": [
    {
     "name": "stdout",
     "output_type": "stream",
     "text": [
      "Found Train Folder --->\t /Users/ravkothu/Documents/Personal_items_at_Oracle/Master_Degree/University_of_San_Diego/Online_Masters/MS_in_Applied_AI/Subjects_and_Resources/AAI-501_Introduction_to_AI/AAI-501_Final_Team_Project/pneumonia_detection/dataset/chest_xray_nrm_padded/train_nrm_padded\n",
      "Found Test Folder --->\t /Users/ravkothu/Documents/Personal_items_at_Oracle/Master_Degree/University_of_San_Diego/Online_Masters/MS_in_Applied_AI/Subjects_and_Resources/AAI-501_Introduction_to_AI/AAI-501_Final_Team_Project/pneumonia_detection/dataset/chest_xray_nrm_padded/test_nrm_padded\n",
      "\n",
      "\n"
     ]
    },
    {
     "data": {
      "text/plain": [
       "{'train_nrm_padded_PNEUMONIA_nrm_padded': 1,\n",
       " 'train_nrm_padded_NORMAL_nrm_padded': 0,\n",
       " 'test_nrm_padded_PNEUMONIA_nrm_padded': 1,\n",
       " 'test_nrm_padded_NORMAL_nrm_padded': 0}"
      ]
     },
     "execution_count": 3,
     "metadata": {},
     "output_type": "execute_result"
    }
   ],
   "source": [
    "\n",
    "# Define the root folder\n",
    "root_folder = '/Users/ravkothu/Documents/Personal_items_at_Oracle/Master_Degree/University_of_San_Diego/Online_Masters/MS_in_Applied_AI/Subjects_and_Resources/AAI-501_Introduction_to_AI/AAI-501_Final_Team_Project/pneumonia_detection/dataset/chest_xray_nrm_padded'\n",
    "\n",
    "# Get the subfolders in the root folder\n",
    "subfolders = [f for f in os.listdir(root_folder) if os.path.isdir(os.path.join(root_folder, f))]\n",
    "\n",
    "# Assign subfolders to train_folder and test_folder based on their names\n",
    "for folder in subfolders:\n",
    "    if 'train' in folder.lower():\n",
    "        train_folder = os.path.join(root_folder, folder)\n",
    "        print(f\"Found Train Folder --->\\t {train_folder}\")\n",
    "    elif 'test' in folder.lower():\n",
    "        test_folder = os.path.join(root_folder, folder)\n",
    "        print(f\"Found Test Folder --->\\t {test_folder}\")\n",
    "\n",
    "# Define class labels dynamically from folder names\n",
    "class_labels = {}\n",
    "for element in subfolders:\n",
    "    element_path = os.path.join(root_folder, element)  # Path identified\n",
    "    for idx, folder in enumerate(os.listdir(element_path)):\n",
    "        key=f\"{element}_{folder}\"\n",
    "        if 'normal' in folder.lower():\n",
    "            class_labels[key] = 0\n",
    "        else:\n",
    "            class_labels[key] = 1\n",
    "            \n",
    "print(\"\\n\")\n",
    "class_labels"
   ]
  },
  {
   "cell_type": "markdown",
   "id": "cfe028f0-23a4-4ba1-9550-6b58252e2c1f",
   "metadata": {},
   "source": [
    "## CNN with Adaptive Pooling"
   ]
  },
  {
   "cell_type": "code",
   "execution_count": 4,
   "id": "f50c05d0-5f13-4788-8844-391f56c92550",
   "metadata": {
    "scrolled": true
   },
   "outputs": [
    {
     "data": {
      "text/html": [
       "<pre style=\"white-space:pre;overflow-x:auto;line-height:normal;font-family:Menlo,'DejaVu Sans Mono',consolas,'Courier New',monospace\"><span style=\"font-weight: bold\">Model: \"functional\"</span>\n",
       "</pre>\n"
      ],
      "text/plain": [
       "\u001b[1mModel: \"functional\"\u001b[0m\n"
      ]
     },
     "metadata": {},
     "output_type": "display_data"
    },
    {
     "data": {
      "text/html": [
       "<pre style=\"white-space:pre;overflow-x:auto;line-height:normal;font-family:Menlo,'DejaVu Sans Mono',consolas,'Courier New',monospace\">┏━━━━━━━━━━━━━━━━━━━━━━━━━━━━━━━━━┳━━━━━━━━━━━━━━━━━━━━━━━━┳━━━━━━━━━━━━━━━┓\n",
       "┃<span style=\"font-weight: bold\"> Layer (type)                    </span>┃<span style=\"font-weight: bold\"> Output Shape           </span>┃<span style=\"font-weight: bold\">       Param # </span>┃\n",
       "┡━━━━━━━━━━━━━━━━━━━━━━━━━━━━━━━━━╇━━━━━━━━━━━━━━━━━━━━━━━━╇━━━━━━━━━━━━━━━┩\n",
       "│ input_layer (<span style=\"color: #0087ff; text-decoration-color: #0087ff\">InputLayer</span>)        │ (<span style=\"color: #00d7ff; text-decoration-color: #00d7ff\">None</span>, <span style=\"color: #00af00; text-decoration-color: #00af00\">224</span>, <span style=\"color: #00af00; text-decoration-color: #00af00\">224</span>, <span style=\"color: #00af00; text-decoration-color: #00af00\">3</span>)    │             <span style=\"color: #00af00; text-decoration-color: #00af00\">0</span> │\n",
       "├─────────────────────────────────┼────────────────────────┼───────────────┤\n",
       "│ conv2d (<span style=\"color: #0087ff; text-decoration-color: #0087ff\">Conv2D</span>)                 │ (<span style=\"color: #00d7ff; text-decoration-color: #00d7ff\">None</span>, <span style=\"color: #00af00; text-decoration-color: #00af00\">222</span>, <span style=\"color: #00af00; text-decoration-color: #00af00\">222</span>, <span style=\"color: #00af00; text-decoration-color: #00af00\">32</span>)   │           <span style=\"color: #00af00; text-decoration-color: #00af00\">896</span> │\n",
       "├─────────────────────────────────┼────────────────────────┼───────────────┤\n",
       "│ max_pooling2d (<span style=\"color: #0087ff; text-decoration-color: #0087ff\">MaxPooling2D</span>)    │ (<span style=\"color: #00d7ff; text-decoration-color: #00d7ff\">None</span>, <span style=\"color: #00af00; text-decoration-color: #00af00\">111</span>, <span style=\"color: #00af00; text-decoration-color: #00af00\">111</span>, <span style=\"color: #00af00; text-decoration-color: #00af00\">32</span>)   │             <span style=\"color: #00af00; text-decoration-color: #00af00\">0</span> │\n",
       "├─────────────────────────────────┼────────────────────────┼───────────────┤\n",
       "│ conv2d_1 (<span style=\"color: #0087ff; text-decoration-color: #0087ff\">Conv2D</span>)               │ (<span style=\"color: #00d7ff; text-decoration-color: #00d7ff\">None</span>, <span style=\"color: #00af00; text-decoration-color: #00af00\">109</span>, <span style=\"color: #00af00; text-decoration-color: #00af00\">109</span>, <span style=\"color: #00af00; text-decoration-color: #00af00\">64</span>)   │        <span style=\"color: #00af00; text-decoration-color: #00af00\">18,496</span> │\n",
       "├─────────────────────────────────┼────────────────────────┼───────────────┤\n",
       "│ max_pooling2d_1 (<span style=\"color: #0087ff; text-decoration-color: #0087ff\">MaxPooling2D</span>)  │ (<span style=\"color: #00d7ff; text-decoration-color: #00d7ff\">None</span>, <span style=\"color: #00af00; text-decoration-color: #00af00\">54</span>, <span style=\"color: #00af00; text-decoration-color: #00af00\">54</span>, <span style=\"color: #00af00; text-decoration-color: #00af00\">64</span>)     │             <span style=\"color: #00af00; text-decoration-color: #00af00\">0</span> │\n",
       "├─────────────────────────────────┼────────────────────────┼───────────────┤\n",
       "│ conv2d_2 (<span style=\"color: #0087ff; text-decoration-color: #0087ff\">Conv2D</span>)               │ (<span style=\"color: #00d7ff; text-decoration-color: #00d7ff\">None</span>, <span style=\"color: #00af00; text-decoration-color: #00af00\">52</span>, <span style=\"color: #00af00; text-decoration-color: #00af00\">52</span>, <span style=\"color: #00af00; text-decoration-color: #00af00\">128</span>)    │        <span style=\"color: #00af00; text-decoration-color: #00af00\">73,856</span> │\n",
       "├─────────────────────────────────┼────────────────────────┼───────────────┤\n",
       "│ global_average_pooling2d        │ (<span style=\"color: #00d7ff; text-decoration-color: #00d7ff\">None</span>, <span style=\"color: #00af00; text-decoration-color: #00af00\">128</span>)            │             <span style=\"color: #00af00; text-decoration-color: #00af00\">0</span> │\n",
       "│ (<span style=\"color: #0087ff; text-decoration-color: #0087ff\">GlobalAveragePooling2D</span>)        │                        │               │\n",
       "├─────────────────────────────────┼────────────────────────┼───────────────┤\n",
       "│ flatten (<span style=\"color: #0087ff; text-decoration-color: #0087ff\">Flatten</span>)               │ (<span style=\"color: #00d7ff; text-decoration-color: #00d7ff\">None</span>, <span style=\"color: #00af00; text-decoration-color: #00af00\">128</span>)            │             <span style=\"color: #00af00; text-decoration-color: #00af00\">0</span> │\n",
       "├─────────────────────────────────┼────────────────────────┼───────────────┤\n",
       "│ dense (<span style=\"color: #0087ff; text-decoration-color: #0087ff\">Dense</span>)                   │ (<span style=\"color: #00d7ff; text-decoration-color: #00d7ff\">None</span>, <span style=\"color: #00af00; text-decoration-color: #00af00\">128</span>)            │        <span style=\"color: #00af00; text-decoration-color: #00af00\">16,512</span> │\n",
       "├─────────────────────────────────┼────────────────────────┼───────────────┤\n",
       "│ dense_1 (<span style=\"color: #0087ff; text-decoration-color: #0087ff\">Dense</span>)                 │ (<span style=\"color: #00d7ff; text-decoration-color: #00d7ff\">None</span>, <span style=\"color: #00af00; text-decoration-color: #00af00\">2</span>)              │           <span style=\"color: #00af00; text-decoration-color: #00af00\">258</span> │\n",
       "└─────────────────────────────────┴────────────────────────┴───────────────┘\n",
       "</pre>\n"
      ],
      "text/plain": [
       "┏━━━━━━━━━━━━━━━━━━━━━━━━━━━━━━━━━┳━━━━━━━━━━━━━━━━━━━━━━━━┳━━━━━━━━━━━━━━━┓\n",
       "┃\u001b[1m \u001b[0m\u001b[1mLayer (type)                   \u001b[0m\u001b[1m \u001b[0m┃\u001b[1m \u001b[0m\u001b[1mOutput Shape          \u001b[0m\u001b[1m \u001b[0m┃\u001b[1m \u001b[0m\u001b[1m      Param #\u001b[0m\u001b[1m \u001b[0m┃\n",
       "┡━━━━━━━━━━━━━━━━━━━━━━━━━━━━━━━━━╇━━━━━━━━━━━━━━━━━━━━━━━━╇━━━━━━━━━━━━━━━┩\n",
       "│ input_layer (\u001b[38;5;33mInputLayer\u001b[0m)        │ (\u001b[38;5;45mNone\u001b[0m, \u001b[38;5;34m224\u001b[0m, \u001b[38;5;34m224\u001b[0m, \u001b[38;5;34m3\u001b[0m)    │             \u001b[38;5;34m0\u001b[0m │\n",
       "├─────────────────────────────────┼────────────────────────┼───────────────┤\n",
       "│ conv2d (\u001b[38;5;33mConv2D\u001b[0m)                 │ (\u001b[38;5;45mNone\u001b[0m, \u001b[38;5;34m222\u001b[0m, \u001b[38;5;34m222\u001b[0m, \u001b[38;5;34m32\u001b[0m)   │           \u001b[38;5;34m896\u001b[0m │\n",
       "├─────────────────────────────────┼────────────────────────┼───────────────┤\n",
       "│ max_pooling2d (\u001b[38;5;33mMaxPooling2D\u001b[0m)    │ (\u001b[38;5;45mNone\u001b[0m, \u001b[38;5;34m111\u001b[0m, \u001b[38;5;34m111\u001b[0m, \u001b[38;5;34m32\u001b[0m)   │             \u001b[38;5;34m0\u001b[0m │\n",
       "├─────────────────────────────────┼────────────────────────┼───────────────┤\n",
       "│ conv2d_1 (\u001b[38;5;33mConv2D\u001b[0m)               │ (\u001b[38;5;45mNone\u001b[0m, \u001b[38;5;34m109\u001b[0m, \u001b[38;5;34m109\u001b[0m, \u001b[38;5;34m64\u001b[0m)   │        \u001b[38;5;34m18,496\u001b[0m │\n",
       "├─────────────────────────────────┼────────────────────────┼───────────────┤\n",
       "│ max_pooling2d_1 (\u001b[38;5;33mMaxPooling2D\u001b[0m)  │ (\u001b[38;5;45mNone\u001b[0m, \u001b[38;5;34m54\u001b[0m, \u001b[38;5;34m54\u001b[0m, \u001b[38;5;34m64\u001b[0m)     │             \u001b[38;5;34m0\u001b[0m │\n",
       "├─────────────────────────────────┼────────────────────────┼───────────────┤\n",
       "│ conv2d_2 (\u001b[38;5;33mConv2D\u001b[0m)               │ (\u001b[38;5;45mNone\u001b[0m, \u001b[38;5;34m52\u001b[0m, \u001b[38;5;34m52\u001b[0m, \u001b[38;5;34m128\u001b[0m)    │        \u001b[38;5;34m73,856\u001b[0m │\n",
       "├─────────────────────────────────┼────────────────────────┼───────────────┤\n",
       "│ global_average_pooling2d        │ (\u001b[38;5;45mNone\u001b[0m, \u001b[38;5;34m128\u001b[0m)            │             \u001b[38;5;34m0\u001b[0m │\n",
       "│ (\u001b[38;5;33mGlobalAveragePooling2D\u001b[0m)        │                        │               │\n",
       "├─────────────────────────────────┼────────────────────────┼───────────────┤\n",
       "│ flatten (\u001b[38;5;33mFlatten\u001b[0m)               │ (\u001b[38;5;45mNone\u001b[0m, \u001b[38;5;34m128\u001b[0m)            │             \u001b[38;5;34m0\u001b[0m │\n",
       "├─────────────────────────────────┼────────────────────────┼───────────────┤\n",
       "│ dense (\u001b[38;5;33mDense\u001b[0m)                   │ (\u001b[38;5;45mNone\u001b[0m, \u001b[38;5;34m128\u001b[0m)            │        \u001b[38;5;34m16,512\u001b[0m │\n",
       "├─────────────────────────────────┼────────────────────────┼───────────────┤\n",
       "│ dense_1 (\u001b[38;5;33mDense\u001b[0m)                 │ (\u001b[38;5;45mNone\u001b[0m, \u001b[38;5;34m2\u001b[0m)              │           \u001b[38;5;34m258\u001b[0m │\n",
       "└─────────────────────────────────┴────────────────────────┴───────────────┘\n"
      ]
     },
     "metadata": {},
     "output_type": "display_data"
    },
    {
     "data": {
      "text/html": [
       "<pre style=\"white-space:pre;overflow-x:auto;line-height:normal;font-family:Menlo,'DejaVu Sans Mono',consolas,'Courier New',monospace\"><span style=\"font-weight: bold\"> Total params: </span><span style=\"color: #00af00; text-decoration-color: #00af00\">110,018</span> (429.76 KB)\n",
       "</pre>\n"
      ],
      "text/plain": [
       "\u001b[1m Total params: \u001b[0m\u001b[38;5;34m110,018\u001b[0m (429.76 KB)\n"
      ]
     },
     "metadata": {},
     "output_type": "display_data"
    },
    {
     "data": {
      "text/html": [
       "<pre style=\"white-space:pre;overflow-x:auto;line-height:normal;font-family:Menlo,'DejaVu Sans Mono',consolas,'Courier New',monospace\"><span style=\"font-weight: bold\"> Trainable params: </span><span style=\"color: #00af00; text-decoration-color: #00af00\">110,018</span> (429.76 KB)\n",
       "</pre>\n"
      ],
      "text/plain": [
       "\u001b[1m Trainable params: \u001b[0m\u001b[38;5;34m110,018\u001b[0m (429.76 KB)\n"
      ]
     },
     "metadata": {},
     "output_type": "display_data"
    },
    {
     "data": {
      "text/html": [
       "<pre style=\"white-space:pre;overflow-x:auto;line-height:normal;font-family:Menlo,'DejaVu Sans Mono',consolas,'Courier New',monospace\"><span style=\"font-weight: bold\"> Non-trainable params: </span><span style=\"color: #00af00; text-decoration-color: #00af00\">0</span> (0.00 B)\n",
       "</pre>\n"
      ],
      "text/plain": [
       "\u001b[1m Non-trainable params: \u001b[0m\u001b[38;5;34m0\u001b[0m (0.00 B)\n"
      ]
     },
     "metadata": {},
     "output_type": "display_data"
    }
   ],
   "source": [
    "import tensorflow as tf\n",
    "from tensorflow.keras.layers import Input, Dense, Conv2D, MaxPooling2D, GlobalAveragePooling2D, Lambda, Flatten\n",
    "from tensorflow.keras.models import Model\n",
    "\n",
    "# CNN with Global Average Pooling (similar to adaptive pooling)\n",
    "def build_cnn_with_adaptive_pooling(input_shape):\n",
    "    inputs = Input(shape=input_shape)\n",
    "    x = Conv2D(32, (3, 3), activation='relu')(inputs)\n",
    "    x = MaxPooling2D((2, 2))(x)\n",
    "    x = Conv2D(64, (3, 3), activation='relu')(x)\n",
    "    x = MaxPooling2D((2, 2))(x)\n",
    "    x = Conv2D(128, (3, 3), activation='relu')(x)\n",
    "    x = GlobalAveragePooling2D()(x)  # Global Average Pooling instead of Adaptive Pooling\n",
    "    x = Flatten()(x)\n",
    "    x = Dense(128, activation='relu')(x)\n",
    "    outputs = Dense(2, activation='softmax')(x)  # Assuming binary classification\n",
    "    model = Model(inputs, outputs)\n",
    "    return model\n",
    "\n",
    "# Example usage\n",
    "if __name__ == \"__main__\":\n",
    "    input_shape = (224, 224, 3)  # Example input shape\n",
    "    cnn_model = build_cnn_with_adaptive_pooling(input_shape)\n",
    "    cnn_model.summary()\n"
   ]
  },
  {
   "cell_type": "markdown",
   "id": "1ca2f1e2-113f-4f43-a4e0-ad755e473c0d",
   "metadata": {},
   "source": [
    "### Load and Preprocess Images"
   ]
  },
  {
   "cell_type": "code",
   "execution_count": 5,
   "id": "e6082218-a54b-4e18-af4a-15568fe4a00a",
   "metadata": {},
   "outputs": [
    {
     "name": "stdout",
     "output_type": "stream",
     "text": [
      "Found 5232 images belonging to 2 classes.\n",
      "Found 624 images belonging to 2 classes.\n"
     ]
    }
   ],
   "source": [
    "# # root_folder = 'C:/Users/Soumiz/Downloads/AII 501 Project Pneumonia/ChestXRay2017_nrm'\n",
    "\n",
    "# Define ImageDataGenerator for training and testing\n",
    "train_datagen = ImageDataGenerator(rescale=1./255)\n",
    "test_datagen = ImageDataGenerator(rescale=1./255)\n",
    "\n",
    "# Create the data generators\n",
    "train_generator = train_datagen.flow_from_directory(\n",
    "    os.path.join(root_folder, 'train_nrm_padded'),\n",
    "    target_size=(224, 224),\n",
    "    batch_size=8,                                   # Batch size can be changed to bigger \n",
    "    class_mode='categorical')\n",
    "\n",
    "test_generator = test_datagen.flow_from_directory(\n",
    "    os.path.join(root_folder, 'test_nrm_padded'),\n",
    "    target_size=(224, 224),\n",
    "    batch_size=8,                                   # Batch size can be changed to bigger \n",
    "    class_mode='categorical')\n"
   ]
  },
  {
   "cell_type": "markdown",
   "id": "c2c571c9-d8fe-4bad-9095-f1f541c85a96",
   "metadata": {},
   "source": [
    "### Get Pre-trained Model"
   ]
  },
  {
   "cell_type": "code",
   "execution_count": 6,
   "id": "bd0584b8-ff1f-41d9-94ce-2c6826c45b2a",
   "metadata": {},
   "outputs": [],
   "source": [
    "input_shape = (224, 224, 3)\n",
    "model_name = 'CNN'   \n",
    "model = cnn_model\n"
   ]
  },
  {
   "cell_type": "markdown",
   "id": "7fbba73b-ef96-4ddd-8151-f9f08404fd82",
   "metadata": {},
   "source": [
    "### Compile and Train the Model"
   ]
  },
  {
   "cell_type": "code",
   "execution_count": 7,
   "id": "57ca70b0-22e7-4056-b8c7-41cf1eae13d8",
   "metadata": {},
   "outputs": [
    {
     "name": "stdout",
     "output_type": "stream",
     "text": [
      "start Time= 3.409385681152344e-05\n",
      "Epoch 1/50\n"
     ]
    },
    {
     "name": "stderr",
     "output_type": "stream",
     "text": [
      "/Library/Frameworks/Python.framework/Versions/3.10/lib/python3.10/site-packages/keras/src/trainers/data_adapters/py_dataset_adapter.py:121: UserWarning: Your `PyDataset` class should call `super().__init__(**kwargs)` in its constructor. `**kwargs` can include `workers`, `use_multiprocessing`, `max_queue_size`. Do not pass these arguments to `fit()`, as they will be ignored.\n",
      "  self._warn_if_super_not_called()\n"
     ]
    },
    {
     "name": "stdout",
     "output_type": "stream",
     "text": [
      "\u001b[1m654/654\u001b[0m \u001b[32m━━━━━━━━━━━━━━━━━━━━\u001b[0m\u001b[37m\u001b[0m \u001b[1m238s\u001b[0m 360ms/step - accuracy: 0.7815 - loss: 0.5324 - val_accuracy: 0.8205 - val_loss: 0.4155\n",
      "Epoch 2/50\n",
      "\u001b[1m654/654\u001b[0m \u001b[32m━━━━━━━━━━━━━━━━━━━━\u001b[0m\u001b[37m\u001b[0m \u001b[1m225s\u001b[0m 341ms/step - accuracy: 0.8382 - loss: 0.3382 - val_accuracy: 0.8125 - val_loss: 0.4300\n",
      "Epoch 3/50\n",
      "\u001b[1m654/654\u001b[0m \u001b[32m━━━━━━━━━━━━━━━━━━━━\u001b[0m\u001b[37m\u001b[0m \u001b[1m226s\u001b[0m 343ms/step - accuracy: 0.8276 - loss: 0.3508 - val_accuracy: 0.8606 - val_loss: 0.3496\n",
      "Epoch 4/50\n",
      "\u001b[1m654/654\u001b[0m \u001b[32m━━━━━━━━━━━━━━━━━━━━\u001b[0m\u001b[37m\u001b[0m \u001b[1m223s\u001b[0m 338ms/step - accuracy: 0.8288 - loss: 0.3504 - val_accuracy: 0.8494 - val_loss: 0.3718\n",
      "Epoch 5/50\n",
      "\u001b[1m654/654\u001b[0m \u001b[32m━━━━━━━━━━━━━━━━━━━━\u001b[0m\u001b[37m\u001b[0m \u001b[1m224s\u001b[0m 339ms/step - accuracy: 0.8247 - loss: 0.3516 - val_accuracy: 0.8574 - val_loss: 0.3704\n",
      "Epoch 6/50\n",
      "\u001b[1m654/654\u001b[0m \u001b[32m━━━━━━━━━━━━━━━━━━━━\u001b[0m\u001b[37m\u001b[0m \u001b[1m229s\u001b[0m 346ms/step - accuracy: 0.8455 - loss: 0.3266 - val_accuracy: 0.8606 - val_loss: 0.3779\n",
      "Epoch 7/50\n",
      "\u001b[1m654/654\u001b[0m \u001b[32m━━━━━━━━━━━━━━━━━━━━\u001b[0m\u001b[37m\u001b[0m \u001b[1m229s\u001b[0m 347ms/step - accuracy: 0.8482 - loss: 0.3197 - val_accuracy: 0.8606 - val_loss: 0.3477\n",
      "Epoch 8/50\n",
      "\u001b[1m654/654\u001b[0m \u001b[32m━━━━━━━━━━━━━━━━━━━━\u001b[0m\u001b[37m\u001b[0m \u001b[1m226s\u001b[0m 343ms/step - accuracy: 0.8532 - loss: 0.3111 - val_accuracy: 0.8558 - val_loss: 0.3816\n",
      "Epoch 9/50\n",
      "\u001b[1m654/654\u001b[0m \u001b[32m━━━━━━━━━━━━━━━━━━━━\u001b[0m\u001b[37m\u001b[0m \u001b[1m231s\u001b[0m 350ms/step - accuracy: 0.8575 - loss: 0.3061 - val_accuracy: 0.8429 - val_loss: 0.3851\n",
      "Epoch 10/50\n",
      "\u001b[1m654/654\u001b[0m \u001b[32m━━━━━━━━━━━━━━━━━━━━\u001b[0m\u001b[37m\u001b[0m \u001b[1m231s\u001b[0m 350ms/step - accuracy: 0.8777 - loss: 0.2869 - val_accuracy: 0.8670 - val_loss: 0.3144\n",
      "Epoch 11/50\n",
      "\u001b[1m654/654\u001b[0m \u001b[32m━━━━━━━━━━━━━━━━━━━━\u001b[0m\u001b[37m\u001b[0m \u001b[1m230s\u001b[0m 349ms/step - accuracy: 0.8799 - loss: 0.2837 - val_accuracy: 0.8654 - val_loss: 0.3164\n",
      "Epoch 12/50\n",
      "\u001b[1m654/654\u001b[0m \u001b[32m━━━━━━━━━━━━━━━━━━━━\u001b[0m\u001b[37m\u001b[0m \u001b[1m231s\u001b[0m 350ms/step - accuracy: 0.8883 - loss: 0.2605 - val_accuracy: 0.8510 - val_loss: 0.3343\n",
      "Epoch 13/50\n",
      "\u001b[1m654/654\u001b[0m \u001b[32m━━━━━━━━━━━━━━━━━━━━\u001b[0m\u001b[37m\u001b[0m \u001b[1m228s\u001b[0m 346ms/step - accuracy: 0.8929 - loss: 0.2508 - val_accuracy: 0.8846 - val_loss: 0.2728\n",
      "Epoch 14/50\n",
      "\u001b[1m654/654\u001b[0m \u001b[32m━━━━━━━━━━━━━━━━━━━━\u001b[0m\u001b[37m\u001b[0m \u001b[1m229s\u001b[0m 347ms/step - accuracy: 0.9061 - loss: 0.2328 - val_accuracy: 0.8878 - val_loss: 0.2737\n",
      "Epoch 15/50\n",
      "\u001b[1m654/654\u001b[0m \u001b[32m━━━━━━━━━━━━━━━━━━━━\u001b[0m\u001b[37m\u001b[0m \u001b[1m227s\u001b[0m 344ms/step - accuracy: 0.9075 - loss: 0.2327 - val_accuracy: 0.8942 - val_loss: 0.2638\n",
      "Epoch 16/50\n",
      "\u001b[1m654/654\u001b[0m \u001b[32m━━━━━━━━━━━━━━━━━━━━\u001b[0m\u001b[37m\u001b[0m \u001b[1m226s\u001b[0m 343ms/step - accuracy: 0.9111 - loss: 0.2195 - val_accuracy: 0.8718 - val_loss: 0.2909\n",
      "Epoch 17/50\n",
      "\u001b[1m654/654\u001b[0m \u001b[32m━━━━━━━━━━━━━━━━━━━━\u001b[0m\u001b[37m\u001b[0m \u001b[1m223s\u001b[0m 337ms/step - accuracy: 0.9030 - loss: 0.2327 - val_accuracy: 0.8494 - val_loss: 0.3616\n",
      "Epoch 18/50\n",
      "\u001b[1m654/654\u001b[0m \u001b[32m━━━━━━━━━━━━━━━━━━━━\u001b[0m\u001b[37m\u001b[0m \u001b[1m225s\u001b[0m 341ms/step - accuracy: 0.9081 - loss: 0.2172 - val_accuracy: 0.8798 - val_loss: 0.2759\n",
      "Epoch 19/50\n",
      "\u001b[1m654/654\u001b[0m \u001b[32m━━━━━━━━━━━━━━━━━━━━\u001b[0m\u001b[37m\u001b[0m \u001b[1m223s\u001b[0m 338ms/step - accuracy: 0.9108 - loss: 0.2200 - val_accuracy: 0.8638 - val_loss: 0.3142\n",
      "Epoch 20/50\n",
      "\u001b[1m654/654\u001b[0m \u001b[32m━━━━━━━━━━━━━━━━━━━━\u001b[0m\u001b[37m\u001b[0m \u001b[1m221s\u001b[0m 335ms/step - accuracy: 0.9105 - loss: 0.2120 - val_accuracy: 0.8718 - val_loss: 0.2935\n",
      "Epoch 21/50\n",
      "\u001b[1m654/654\u001b[0m \u001b[32m━━━━━━━━━━━━━━━━━━━━\u001b[0m\u001b[37m\u001b[0m \u001b[1m222s\u001b[0m 336ms/step - accuracy: 0.9197 - loss: 0.2094 - val_accuracy: 0.8750 - val_loss: 0.3001\n",
      "Epoch 22/50\n",
      "\u001b[1m654/654\u001b[0m \u001b[32m━━━━━━━━━━━━━━━━━━━━\u001b[0m\u001b[37m\u001b[0m \u001b[1m222s\u001b[0m 336ms/step - accuracy: 0.9145 - loss: 0.2118 - val_accuracy: 0.8365 - val_loss: 0.3988\n",
      "Epoch 23/50\n",
      "\u001b[1m654/654\u001b[0m \u001b[32m━━━━━━━━━━━━━━━━━━━━\u001b[0m\u001b[37m\u001b[0m \u001b[1m222s\u001b[0m 336ms/step - accuracy: 0.9187 - loss: 0.2083 - val_accuracy: 0.8558 - val_loss: 0.3620\n",
      "Epoch 24/50\n",
      "\u001b[1m654/654\u001b[0m \u001b[32m━━━━━━━━━━━━━━━━━━━━\u001b[0m\u001b[37m\u001b[0m \u001b[1m222s\u001b[0m 337ms/step - accuracy: 0.9132 - loss: 0.2149 - val_accuracy: 0.8814 - val_loss: 0.2819\n",
      "Epoch 25/50\n",
      "\u001b[1m654/654\u001b[0m \u001b[32m━━━━━━━━━━━━━━━━━━━━\u001b[0m\u001b[37m\u001b[0m \u001b[1m223s\u001b[0m 338ms/step - accuracy: 0.9168 - loss: 0.2107 - val_accuracy: 0.8702 - val_loss: 0.3027\n",
      "Epoch 26/50\n",
      "\u001b[1m654/654\u001b[0m \u001b[32m━━━━━━━━━━━━━━━━━━━━\u001b[0m\u001b[37m\u001b[0m \u001b[1m222s\u001b[0m 336ms/step - accuracy: 0.9196 - loss: 0.2048 - val_accuracy: 0.9022 - val_loss: 0.2444\n",
      "Epoch 27/50\n",
      "\u001b[1m654/654\u001b[0m \u001b[32m━━━━━━━━━━━━━━━━━━━━\u001b[0m\u001b[37m\u001b[0m \u001b[1m221s\u001b[0m 335ms/step - accuracy: 0.9066 - loss: 0.2238 - val_accuracy: 0.8429 - val_loss: 0.3945\n",
      "Epoch 28/50\n",
      "\u001b[1m654/654\u001b[0m \u001b[32m━━━━━━━━━━━━━━━━━━━━\u001b[0m\u001b[37m\u001b[0m \u001b[1m222s\u001b[0m 337ms/step - accuracy: 0.9191 - loss: 0.1939 - val_accuracy: 0.8429 - val_loss: 0.3784\n",
      "Epoch 29/50\n",
      "\u001b[1m654/654\u001b[0m \u001b[32m━━━━━━━━━━━━━━━━━━━━\u001b[0m\u001b[37m\u001b[0m \u001b[1m222s\u001b[0m 336ms/step - accuracy: 0.9216 - loss: 0.1901 - val_accuracy: 0.8446 - val_loss: 0.3746\n",
      "Epoch 30/50\n",
      "\u001b[1m654/654\u001b[0m \u001b[32m━━━━━━━━━━━━━━━━━━━━\u001b[0m\u001b[37m\u001b[0m \u001b[1m222s\u001b[0m 337ms/step - accuracy: 0.9222 - loss: 0.1960 - val_accuracy: 0.8670 - val_loss: 0.3187\n",
      "Epoch 31/50\n",
      "\u001b[1m654/654\u001b[0m \u001b[32m━━━━━━━━━━━━━━━━━━━━\u001b[0m\u001b[37m\u001b[0m \u001b[1m222s\u001b[0m 336ms/step - accuracy: 0.9154 - loss: 0.2029 - val_accuracy: 0.8862 - val_loss: 0.2655\n",
      "Epoch 32/50\n",
      "\u001b[1m654/654\u001b[0m \u001b[32m━━━━━━━━━━━━━━━━━━━━\u001b[0m\u001b[37m\u001b[0m \u001b[1m223s\u001b[0m 338ms/step - accuracy: 0.9222 - loss: 0.1945 - val_accuracy: 0.7933 - val_loss: 0.5304\n",
      "Epoch 33/50\n",
      "\u001b[1m654/654\u001b[0m \u001b[32m━━━━━━━━━━━━━━━━━━━━\u001b[0m\u001b[37m\u001b[0m \u001b[1m222s\u001b[0m 337ms/step - accuracy: 0.9263 - loss: 0.1900 - val_accuracy: 0.8654 - val_loss: 0.3154\n",
      "Epoch 34/50\n",
      "\u001b[1m654/654\u001b[0m \u001b[32m━━━━━━━━━━━━━━━━━━━━\u001b[0m\u001b[37m\u001b[0m \u001b[1m223s\u001b[0m 337ms/step - accuracy: 0.9313 - loss: 0.1785 - val_accuracy: 0.8429 - val_loss: 0.3846\n",
      "Epoch 35/50\n",
      "\u001b[1m654/654\u001b[0m \u001b[32m━━━━━━━━━━━━━━━━━━━━\u001b[0m\u001b[37m\u001b[0m \u001b[1m222s\u001b[0m 336ms/step - accuracy: 0.9280 - loss: 0.1814 - val_accuracy: 0.8654 - val_loss: 0.3275\n",
      "Epoch 36/50\n",
      "\u001b[1m654/654\u001b[0m \u001b[32m━━━━━━━━━━━━━━━━━━━━\u001b[0m\u001b[37m\u001b[0m \u001b[1m222s\u001b[0m 336ms/step - accuracy: 0.9255 - loss: 0.1818 - val_accuracy: 0.8766 - val_loss: 0.2887\n",
      "Epoch 37/50\n",
      "\u001b[1m654/654\u001b[0m \u001b[32m━━━━━━━━━━━━━━━━━━━━\u001b[0m\u001b[37m\u001b[0m \u001b[1m223s\u001b[0m 338ms/step - accuracy: 0.9348 - loss: 0.1700 - val_accuracy: 0.8782 - val_loss: 0.2723\n",
      "Epoch 38/50\n",
      "\u001b[1m654/654\u001b[0m \u001b[32m━━━━━━━━━━━━━━━━━━━━\u001b[0m\u001b[37m\u001b[0m \u001b[1m223s\u001b[0m 337ms/step - accuracy: 0.9306 - loss: 0.1831 - val_accuracy: 0.8654 - val_loss: 0.3511\n",
      "Epoch 39/50\n",
      "\u001b[1m654/654\u001b[0m \u001b[32m━━━━━━━━━━━━━━━━━━━━\u001b[0m\u001b[37m\u001b[0m \u001b[1m223s\u001b[0m 338ms/step - accuracy: 0.9303 - loss: 0.1732 - val_accuracy: 0.8974 - val_loss: 0.2417\n",
      "Epoch 40/50\n",
      "\u001b[1m654/654\u001b[0m \u001b[32m━━━━━━━━━━━━━━━━━━━━\u001b[0m\u001b[37m\u001b[0m \u001b[1m222s\u001b[0m 337ms/step - accuracy: 0.9302 - loss: 0.1873 - val_accuracy: 0.8718 - val_loss: 0.3268\n",
      "Epoch 41/50\n",
      "\u001b[1m654/654\u001b[0m \u001b[32m━━━━━━━━━━━━━━━━━━━━\u001b[0m\u001b[37m\u001b[0m \u001b[1m222s\u001b[0m 337ms/step - accuracy: 0.9314 - loss: 0.1819 - val_accuracy: 0.8750 - val_loss: 0.3100\n",
      "Epoch 42/50\n",
      "\u001b[1m654/654\u001b[0m \u001b[32m━━━━━━━━━━━━━━━━━━━━\u001b[0m\u001b[37m\u001b[0m \u001b[1m226s\u001b[0m 342ms/step - accuracy: 0.9355 - loss: 0.1679 - val_accuracy: 0.8574 - val_loss: 0.3724\n",
      "Epoch 43/50\n",
      "\u001b[1m654/654\u001b[0m \u001b[32m━━━━━━━━━━━━━━━━━━━━\u001b[0m\u001b[37m\u001b[0m \u001b[1m229s\u001b[0m 346ms/step - accuracy: 0.9317 - loss: 0.1731 - val_accuracy: 0.8574 - val_loss: 0.3775\n",
      "Epoch 44/50\n",
      "\u001b[1m654/654\u001b[0m \u001b[32m━━━━━━━━━━━━━━━━━━━━\u001b[0m\u001b[37m\u001b[0m \u001b[1m229s\u001b[0m 347ms/step - accuracy: 0.9374 - loss: 0.1617 - val_accuracy: 0.8734 - val_loss: 0.2888\n",
      "Epoch 45/50\n",
      "\u001b[1m654/654\u001b[0m \u001b[32m━━━━━━━━━━━━━━━━━━━━\u001b[0m\u001b[37m\u001b[0m \u001b[1m231s\u001b[0m 349ms/step - accuracy: 0.9401 - loss: 0.1628 - val_accuracy: 0.8077 - val_loss: 0.4913\n",
      "Epoch 46/50\n",
      "\u001b[1m654/654\u001b[0m \u001b[32m━━━━━━━━━━━━━━━━━━━━\u001b[0m\u001b[37m\u001b[0m \u001b[1m224s\u001b[0m 340ms/step - accuracy: 0.9355 - loss: 0.1572 - val_accuracy: 0.8798 - val_loss: 0.2816\n",
      "Epoch 47/50\n",
      "\u001b[1m654/654\u001b[0m \u001b[32m━━━━━━━━━━━━━━━━━━━━\u001b[0m\u001b[37m\u001b[0m \u001b[1m220s\u001b[0m 334ms/step - accuracy: 0.9426 - loss: 0.1521 - val_accuracy: 0.8606 - val_loss: 0.3444\n",
      "Epoch 48/50\n",
      "\u001b[1m654/654\u001b[0m \u001b[32m━━━━━━━━━━━━━━━━━━━━\u001b[0m\u001b[37m\u001b[0m \u001b[1m223s\u001b[0m 338ms/step - accuracy: 0.9420 - loss: 0.1520 - val_accuracy: 0.8750 - val_loss: 0.3088\n",
      "Epoch 49/50\n",
      "\u001b[1m654/654\u001b[0m \u001b[32m━━━━━━━━━━━━━━━━━━━━\u001b[0m\u001b[37m\u001b[0m \u001b[1m231s\u001b[0m 349ms/step - accuracy: 0.9406 - loss: 0.1512 - val_accuracy: 0.8237 - val_loss: 0.4634\n",
      "Epoch 50/50\n"
     ]
    },
    {
     "name": "stdout",
     "output_type": "stream",
     "text": [
      "\u001b[1m654/654\u001b[0m \u001b[32m━━━━━━━━━━━━━━━━━━━━\u001b[0m\u001b[37m\u001b[0m \u001b[1m229s\u001b[0m 347ms/step - accuracy: 0.9424 - loss: 0.1531 - val_accuracy: 0.8125 - val_loss: 0.4860\n",
      "Time taken to Compile and Train= 11255.480288028717\n"
     ]
    }
   ],
   "source": [
    "model.compile(optimizer=Adam(learning_rate=0.0001), loss='categorical_crossentropy', metrics=['accuracy'])\n",
    "\n",
    "start_time=time.time()\n",
    "# Train the model\n",
    "print(\"start Time=\",time.time()-start_time)\n",
    "\n",
    "model.fit(train_generator, epochs=50, validation_data=test_generator)   # change epoch to higher value for proper evaluation\n",
    "\n",
    "print(\"Time taken to Compile and Train=\",time.time()-start_time)"
   ]
  },
  {
   "cell_type": "markdown",
   "id": "cd488708-fee5-485b-83ae-7fd17765d99c",
   "metadata": {},
   "source": [
    "### Evaluate the Model"
   ]
  },
  {
   "cell_type": "code",
   "execution_count": 8,
   "id": "863638bc-94d2-444d-93a1-1a7cc995f84e",
   "metadata": {},
   "outputs": [
    {
     "name": "stdout",
     "output_type": "stream",
     "text": [
      "\u001b[1m78/78\u001b[0m \u001b[32m━━━━━━━━━━━━━━━━━━━━\u001b[0m\u001b[37m\u001b[0m \u001b[1m23s\u001b[0m 296ms/step - accuracy: 0.8072 - loss: 0.5106\n",
      "Test accuracy: 0.8125\n"
     ]
    }
   ],
   "source": [
    "# Evaluate the model on the test data\n",
    "test_loss, test_acc = model.evaluate(test_generator)\n",
    "print(f\"Test accuracy: {test_acc}\")"
   ]
  },
  {
   "cell_type": "markdown",
   "id": "9c27f577",
   "metadata": {},
   "source": [
    "### Evaluation time"
   ]
  },
  {
   "cell_type": "code",
   "execution_count": 9,
   "id": "a11efe9d-bafc-4fbd-abdb-7a4f41ac460f",
   "metadata": {},
   "outputs": [
    {
     "name": "stdout",
     "output_type": "stream",
     "text": [
      "Total Execution time= 11329.838241100311\n"
     ]
    }
   ],
   "source": [
    "Total_time=time.time()-main_start_time\n",
    "print(\"Total Execution time=\",Total_time)"
   ]
  },
  {
   "cell_type": "markdown",
   "id": "941562a2-1dc6-4d40-ba09-bd5a9092fa44",
   "metadata": {},
   "source": [
    "## Pre-trained Models [VGG16] with Global Pooling"
   ]
  },
  {
   "cell_type": "markdown",
   "id": "1dda18fe-d3c7-4c06-b00a-f7ca170726c9",
   "metadata": {
    "scrolled": true
   },
   "source": [
    "import tensorflow as tf\n",
    "from tensorflow.keras.applications import VGG16, ResNet50, InceptionV3\n",
    "from tensorflow.keras.layers import Input, Dense, GlobalAveragePooling2D\n",
    "from tensorflow.keras.models import Model\n",
    "\n",
    "# Pre-trained Models with Global Pooling\n",
    "def get_pretrained_model(model_name, input_shape):\n",
    "    if model_name == 'vgg16':\n",
    "        base_model = VGG16(weights='imagenet', include_top=False, input_shape=input_shape)\n",
    "        x = base_model.output\n",
    "        x = GlobalAveragePooling2D()(x)  # Global Average Pooling\n",
    "    elif model_name == 'resnet50':\n",
    "        base_model = ResNet50(weights='imagenet', include_top=False, input_shape=input_shape)\n",
    "        x = base_model.output\n",
    "        x = GlobalAveragePooling2D()(x)  # Global Average Pooling\n",
    "    elif model_name == 'inceptionv3':\n",
    "        base_model = InceptionV3(weights='imagenet', include_top=False, input_shape=input_shape)\n",
    "        x = base_model.output\n",
    "        x = GlobalAveragePooling2D()(x)  # Global Average Pooling\n",
    "    else:\n",
    "        raise ValueError('Unsupported model name.')\n",
    "    x = Dense(128, activation='relu')(x)\n",
    "    outputs = Dense(2, activation='softmax')(x)  # Assuming binary classification\n",
    "    model = Model(base_model.input, outputs)\n",
    "    return model\n",
    "\n",
    "# Example usage\n",
    "if __name__ == \"__main__\":\n",
    "    input_shape = (224, 224, 3)  # Example input shape\n",
    "    model_name = 'vgg16'  # Change to 'resnet50' or 'inceptionv3' as needed\n",
    "    pretrained_model = get_pretrained_model(model_name, input_shape)\n",
    "    pretrained_model.summary()\n"
   ]
  },
  {
   "cell_type": "markdown",
   "id": "94f6aac8-ec56-45af-8f91-fb2e6f002ca7",
   "metadata": {},
   "source": [
    "## Object Detection Models"
   ]
  },
  {
   "cell_type": "markdown",
   "id": "983c60ec-108e-44d7-8f57-7e79140ddd73",
   "metadata": {},
   "source": [
    "import torch\n",
    "from torchvision.models.detection import fasterrcnn_resnet50_fpn, retinanet_resnet50_fpn\n",
    "\n",
    "# Object Detection Models\n",
    "def get_object_detection_model(model_name):\n",
    "    if model_name == 'fasterrcnn':\n",
    "        model = fasterrcnn_resnet50_fpn(weights=True)\n",
    "    elif model_name == 'retinanet':\n",
    "        model = retinanet_resnet50_fpn(weights=True)\n",
    "    else:\n",
    "        raise ValueError('Unsupported object detection model.')\n",
    "    return model\n",
    "\n",
    "# Example usage\n",
    "if __name__ == \"__main__\":\n",
    "    detection_model_name = 'fasterrcnn'  # Change to 'retinanet' as needed\n",
    "    detection_model = get_object_detection_model(detection_model_name)\n",
    "    print(f\"Object detection model ({detection_model_name}) loaded.\")\n"
   ]
  },
  {
   "cell_type": "code",
   "execution_count": null,
   "id": "665ad674-b89e-42d8-a0fd-5b29fc4d0e4f",
   "metadata": {},
   "outputs": [],
   "source": []
  }
 ],
 "metadata": {
  "kernelspec": {
   "display_name": "Python 3 (ipykernel)",
   "language": "python",
   "name": "python3"
  },
  "language_info": {
   "codemirror_mode": {
    "name": "ipython",
    "version": 3
   },
   "file_extension": ".py",
   "mimetype": "text/x-python",
   "name": "python",
   "nbconvert_exporter": "python",
   "pygments_lexer": "ipython3",
   "version": "3.10.4"
  }
 },
 "nbformat": 4,
 "nbformat_minor": 5
}
