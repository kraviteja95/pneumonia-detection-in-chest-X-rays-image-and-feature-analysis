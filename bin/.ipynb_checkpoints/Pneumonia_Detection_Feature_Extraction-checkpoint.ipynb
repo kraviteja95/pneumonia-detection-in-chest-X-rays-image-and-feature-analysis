{
 "cells": [
  {
   "cell_type": "markdown",
   "id": "cfcbd6c7-6017-4c62-a439-dea23aa35a9c",
   "metadata": {
    "tags": []
   },
   "source": [
    "### Authors: Prof. Dr. Soumi Ray, Ravi Teja Kothuru and Abhay Srivastav\n",
    "\n",
    "### Acknowledgements:\n",
    "I would like to thank my team mates Prof. Dr. Soumi Ray and Abhay Srivastav for their guidance and support throughout this project.\n",
    "\n",
    "**Title of the Project:** Comparative Analysis of Image-Based and Feature-Based Approaches for Pneumonia Detection in Chest X-rays\n",
    "\n",
    "**Description of the Project:** This project focuses on detecting pneumonia from chest X-ray images using Advanced Machine Learning and Deep Learning techniques (Rajpurkar et al., 2017; Wang et al., 2017). By leveraging a comprehensive dataset, including annotated images of pneumonia and normal cases, we aim to develop and compare image-based and feature-based approaches. Our goal is to identify the most effective method for accurate and interpretable pneumonia detection, contributing to improved patient outcomes through early diagnosis and treatment. This model will classify patients based on their chest X-ray images as either having pneumonia (1) or not having pneumonia (0).\n",
    "\n",
    "**Objectives of the Project:** \n",
    "\n",
    "- **Image Analysis:** Develop and evaluate deep learning models to classify chest X-rays directly. This approach leverages deep learning models, particularly Convolutional Neural Networks (CNNs), to perform end-to-end image classification. The models directly process raw chest X-ray images to classify them as normal or pneumonia.\n",
    "\n",
    "- **Feature Analysis:** Extract meaningful features from the images and use them to train and evaluate traditional machine learning models. In this approach, we first extract features from the chest X-ray images. These features are then used as inputs for traditional machine learning algorithms. The process includes steps such as feature extraction, selection, and transformation, followed by the application of machine learning techniques like Support Vector Machines (SVM), Random Forests.\n",
    "\n",
    "**Name of the Dataset:** The dataset used in this project is the Chest X-ray dataset considered from the Research paper named **Labeled Optical Coherence Tomography (OCT) and Chest X-Ray Images for Classification**.\n",
    "\n",
    "**Description of the Dataset:** The Diabetes Health Indicators Dataset contains healthcare statistics and lifestyle survey information about people in general along with their diagnosis of diabetes. The 35 features consist of some demographics, lab test results, and answers to survey questions for each patient. The target variable for classification is whether a patient has diabetes, is pre-diabetic, or healthy.\n",
    "\n",
    "**Dataset Source:** \n",
    "\n",
    "- https://data.mendeley.com/datasets/rscbjbr9sj/2\n",
    "\n",
    "**Type of the Dataset:**\n",
    "\n",
    "- X-ray Images\n",
    "\n",
    "**Description of Dataset:** \n",
    "The considered dataset has the following information for better reference:\n",
    "- Separate folders to train and validate/test the model.\n",
    "- Enough number of Chest X-ray images to train the model to detect and diagnose Pneumonia.\n",
    "- The target variable for classification is whether patient has pneumonia or not.\n",
    "\n",
    "**Goal of the Project using this Dataset:**\n",
    "The goal of this project is to conduct a comprehensive comparative analysis of image-based and feature-based approaches for pneumonia detection using chest X-ray images. By evaluating the performance, robustness, and interpretability of deep learning and traditional machine learning models, we aim to identify the most effective method for accurately classifying chest X-rays as normal or pneumonia. This comparison will provide valuable insights into the strengths and limitations of each approach, ultimately contributing to improved detection and diagnosis of pneumonia, which can enhance patient outcomes and survival rates.\n",
    "\n",
    "**Why did we choose this dataset?**\n",
    "We selected this dataset based on several factors. For more detailed information, please refer to the following:\n",
    "- The dataset is extensive, providing a large number of images suitable for evaluating and training deep learning models.\n",
    "- It aligns well with the project's objectives by offering a challenging and realistic scenario for developing an image classification model using deep learning, specifically for Chest X-ray images.\n",
    "- The dataset is annotated with images of two different diseases, enabling the development of a binary-class classification model.\n",
    "- It is publicly available, facilitating easy access for research and development purposes.\n",
    "\n",
    "**Size of dataset:**\n",
    "- Total images size = 1.27 GB\n",
    "- Dataset has 2 folders:\n",
    "  -  **Train:**\n",
    "    -  Normal (without Pneumonia) = 1349 images\n",
    "    -  Pneumonia = 3884 images\n",
    "  -  **Test:**\n",
    "    -  Normal (without Pneumonia) = 234 images\n",
    "    -  Pneumonia = 390 images\n",
    "    \n",
    "**Expected Behaviors and Problem Handling:**\n",
    "- Classify Chest X-ray images with high accuracy.\n",
    "- Handle variations in image quality, resolution, and orientation.\n",
    "- Be robust to noise and artifacts in the images.\n",
    "- Provide interpretable results.\n",
    "\n",
    "**Issues to focus on:**\n",
    "- Improving model interpretability and explainability.\n",
    "- Optimizing model performance on a held-out test set.\n",
    "- Following AI Ethics and Data Safety practices."
   ]
  },
  {
   "cell_type": "markdown",
   "id": "ee1c68f4-7785-470f-92ed-e2b59187294b",
   "metadata": {
    "tags": []
   },
   "source": [
    "# Import all the required files and libraries"
   ]
  },
  {
   "cell_type": "code",
   "execution_count": 21,
   "id": "d0d6374b-5c21-4784-8652-1458090a947d",
   "metadata": {
    "tags": []
   },
   "outputs": [
    {
     "name": "stdout",
     "output_type": "stream",
     "text": [
      "The autoreload extension is already loaded. To reload it, use:\n",
      "  %reload_ext autoreload\n"
     ]
    }
   ],
   "source": [
    "import os\n",
    "import ssl\n",
    "\n",
    "# Disable SSL certificate verification\n",
    "ssl._create_default_https_context = ssl._create_unverified_context\n",
    "\n",
    "# Automatically reload imported modules when their source code changes\n",
    "%load_ext autoreload\n",
    "%reload_ext autoreload\n",
    "%autoreload 2\n",
    "\n",
    "# Import python files from local to use the corresponding function\n",
    "from cxr_image_features_extraction import CxrImageFeatureExtraction"
   ]
  },
  {
   "cell_type": "markdown",
   "id": "5d62e968-9468-4472-8802-49e6182a80f7",
   "metadata": {
    "tags": []
   },
   "source": [
    "# Perform Chest X-ray Images Feature Extraction"
   ]
  },
  {
   "cell_type": "markdown",
   "id": "43a24841-4697-4526-a5c4-4e34ce545ddd",
   "metadata": {
    "tags": []
   },
   "source": [
    "## Create an object of the Image Feature Extraction class"
   ]
  },
  {
   "cell_type": "code",
   "execution_count": 22,
   "id": "cee5ff69-c309-47ca-b979-236ccf650671",
   "metadata": {
    "tags": []
   },
   "outputs": [],
   "source": [
    "image_feature_extraction = CxrImageFeatureExtraction()"
   ]
  },
  {
   "cell_type": "markdown",
   "id": "18c65922-6062-48c3-b0b1-529e7e03d983",
   "metadata": {
    "tags": []
   },
   "source": [
    "## Fetch the absolute path of the image dataset"
   ]
  },
  {
   "cell_type": "code",
   "execution_count": 23,
   "id": "bc069ee8-5eb0-4cde-8277-ea1d04db6cd2",
   "metadata": {
    "tags": []
   },
   "outputs": [
    {
     "name": "stdout",
     "output_type": "stream",
     "text": [
      "Absolute path of the Excel file where the features will be updated - /Users/raviteja/Documents/Teja_Career/Master_Degree/USD/MS_AAI/AAI-501/Final_Project/pneumonia-detection-in-chest-X-rays/image_information/chest_xray_images_features.xlsx\n"
     ]
    }
   ],
   "source": [
    "excel_file_name = image_feature_extraction.fetch_images_features_excel_file_path()\n",
    "print(f\"Absolute path of the Excel file where the features will be updated - {excel_file_name}\")"
   ]
  },
  {
   "cell_type": "code",
   "execution_count": 24,
   "id": "763c7d59-86f0-47ae-a6fe-8eec0fdb5790",
   "metadata": {
    "tags": []
   },
   "outputs": [
    {
     "name": "stdout",
     "output_type": "stream",
     "text": [
      "Normalized Dataset Path = /Users/raviteja/Documents/Teja_Career/Master_Degree/USD/MS_AAI/AAI-501/Final_Project/pneumonia-detection-in-chest-X-rays/dataset/chest_xray_nrm\n",
      "\n",
      "Normalized Train Images\n",
      "************************\n",
      "NORMAL = /Users/raviteja/Documents/Teja_Career/Master_Degree/USD/MS_AAI/AAI-501/Final_Project/pneumonia-detection-in-chest-X-rays/dataset/chest_xray_nrm/train_nrm/NORMAL_nrm\n",
      "\n",
      "PNEUMONIA = /Users/raviteja/Documents/Teja_Career/Master_Degree/USD/MS_AAI/AAI-501/Final_Project/pneumonia-detection-in-chest-X-rays/dataset/chest_xray_nrm/train_nrm/PNEUMONIA_nrm\n",
      "\n",
      "\n",
      "Normalized Test Images\n",
      "***************************\n",
      "NORMAL = /Users/raviteja/Documents/Teja_Career/Master_Degree/USD/MS_AAI/AAI-501/Final_Project/pneumonia-detection-in-chest-X-rays/dataset/chest_xray_nrm/test_nrm/NORMAL_nrm\n",
      "\n",
      "PNEUMONIA = /Users/raviteja/Documents/Teja_Career/Master_Degree/USD/MS_AAI/AAI-501/Final_Project/pneumonia-detection-in-chest-X-rays/dataset/chest_xray_nrm/test_nrm/PNEUMONIA_nrm\n"
     ]
    }
   ],
   "source": [
    "# Define the path to the dataset\n",
    "dataset_path = image_feature_extraction.get_base_path_of_dataset() + \"_nrm\"\n",
    "print(f\"Normalized Dataset Path = {dataset_path}\")\n",
    "\n",
    "# Fetch train, test, NORMAL and PNEUMONIA folder names\n",
    "train_folder_name = str(image_feature_extraction.train_test_image_dirs[0])\n",
    "test_folder_name = str(image_feature_extraction.train_test_image_dirs[1])\n",
    "\n",
    "normal_img_folder_name = str(image_feature_extraction.normal_pneumonia_image_dirs[0])\n",
    "pneumonia_img_folder_name = str(image_feature_extraction.normal_pneumonia_image_dirs[1])\n",
    "\n",
    "# Define the paths to the train and test datasets\n",
    "# Train\n",
    "train_normal = os.path.join(dataset_path, train_folder_name + \"_nrm\", normal_img_folder_name + \"_nrm\")\n",
    "train_pneumonia = os.path.join(dataset_path, train_folder_name + \"_nrm\", pneumonia_img_folder_name + \"_nrm\")\n",
    "\n",
    "# Test\n",
    "test_normal = os.path.join(dataset_path, test_folder_name + \"_nrm\", normal_img_folder_name + \"_nrm\")\n",
    "test_pneumonia = os.path.join(dataset_path, test_folder_name + \"_nrm\", pneumonia_img_folder_name + \"_nrm\")\n",
    "\n",
    "# Print the paths to the train and test datasets\n",
    "print(\"\\nNormalized Train Images\")\n",
    "print(\"************************\")\n",
    "print(f\"NORMAL = {train_normal}\")\n",
    "print(f\"\\nPNEUMONIA = {train_pneumonia}\")\n",
    "\n",
    "print(\"\\n\\nNormalized Test Images\")\n",
    "print(\"***************************\")\n",
    "print(f\"NORMAL = {test_normal}\")\n",
    "print(f\"\\nPNEUMONIA = {test_pneumonia}\")"
   ]
  },
  {
   "cell_type": "code",
   "execution_count": 25,
   "id": "a1e2a973-9928-46f1-834a-da7549c5bee8",
   "metadata": {
    "tags": []
   },
   "outputs": [
    {
     "name": "stdout",
     "output_type": "stream",
     "text": [
      "Extracting all image features from : /Users/raviteja/Documents/Teja_Career/Master_Degree/USD/MS_AAI/AAI-501/Final_Project/pneumonia-detection-in-chest-X-rays/dataset/chest_xray_nrm/train_nrm/NORMAL_nrm\n"
     ]
    },
    {
     "name": "stderr",
     "output_type": "stream",
     "text": [
      "Train Normal: 100%|██████████████████████████████████████████████████████████████| 1349/1349 [3:44:04<00:00,  9.97s/it]\n"
     ]
    },
    {
     "name": "stdout",
     "output_type": "stream",
     "text": [
      "Extracted to: /Users/raviteja/Documents/Teja_Career/Master_Degree/USD/MS_AAI/AAI-501/Final_Project/pneumonia-detection-in-chest-X-rays/image_information/chest_xray_images_features.xlsx\n",
      "Sheet Name: Train Normal Features\n",
      "\n",
      "\n",
      "Extracting all image features from : /Users/raviteja/Documents/Teja_Career/Master_Degree/USD/MS_AAI/AAI-501/Final_Project/pneumonia-detection-in-chest-X-rays/dataset/chest_xray_nrm/train_nrm/PNEUMONIA_nrm\n"
     ]
    },
    {
     "name": "stderr",
     "output_type": "stream",
     "text": [
      "Train Pneumonia: 100%|███████████████████████████████████████████████████████████| 3883/3883 [5:00:59<00:00,  4.65s/it]\n"
     ]
    },
    {
     "name": "stdout",
     "output_type": "stream",
     "text": [
      "Extracted to: /Users/raviteja/Documents/Teja_Career/Master_Degree/USD/MS_AAI/AAI-501/Final_Project/pneumonia-detection-in-chest-X-rays/image_information/chest_xray_images_features.xlsx\n",
      "Sheet Name: Train Pneumonia Features\n",
      "\n",
      "\n",
      "Extracting all image features from : /Users/raviteja/Documents/Teja_Career/Master_Degree/USD/MS_AAI/AAI-501/Final_Project/pneumonia-detection-in-chest-X-rays/dataset/chest_xray_nrm/test_nrm/NORMAL_nrm\n"
     ]
    },
    {
     "name": "stderr",
     "output_type": "stream",
     "text": [
      "Test Normal: 100%|███████████████████████████████████████████████████████████████████| 234/234 [39:44<00:00, 10.19s/it]\n"
     ]
    },
    {
     "name": "stdout",
     "output_type": "stream",
     "text": [
      "Extracted to: /Users/raviteja/Documents/Teja_Career/Master_Degree/USD/MS_AAI/AAI-501/Final_Project/pneumonia-detection-in-chest-X-rays/image_information/chest_xray_images_features.xlsx\n",
      "Sheet Name: Test Normal Features\n",
      "\n",
      "\n",
      "Extracting all image features from : /Users/raviteja/Documents/Teja_Career/Master_Degree/USD/MS_AAI/AAI-501/Final_Project/pneumonia-detection-in-chest-X-rays/dataset/chest_xray_nrm/test_nrm/PNEUMONIA_nrm\n"
     ]
    },
    {
     "name": "stderr",
     "output_type": "stream",
     "text": [
      "Test Pneumonia: 100%|████████████████████████████████████████████████████████████████| 390/390 [23:04<00:00,  3.55s/it]\n"
     ]
    },
    {
     "name": "stdout",
     "output_type": "stream",
     "text": [
      "Extracted to: /Users/raviteja/Documents/Teja_Career/Master_Degree/USD/MS_AAI/AAI-501/Final_Project/pneumonia-detection-in-chest-X-rays/image_information/chest_xray_images_features.xlsx\n",
      "Sheet Name: Test Pneumonia Features\n",
      "\n",
      "\n",
      "All the First and Second Order features are extracted to the Excel file: /Users/raviteja/Documents/Teja_Career/Master_Degree/USD/MS_AAI/AAI-501/Final_Project/pneumonia-detection-in-chest-X-rays/image_information/chest_xray_images_features.xlsx\n",
      "Please check the Excel file for further analysis and interpretation\n"
     ]
    }
   ],
   "source": [
    "image_feature_extraction.update_features_to_excel_file(\n",
    "    excel_file_name=excel_file_name, train_normal=train_normal,\n",
    "\ttrain_pneumonia=train_pneumonia, test_normal=test_normal, \n",
    "    test_pneumonia=test_pneumonia)"
   ]
  },
  {
   "cell_type": "code",
   "execution_count": null,
   "id": "e1660e9c-176c-4caa-9b6a-8545eec787cc",
   "metadata": {},
   "outputs": [],
   "source": []
  }
 ],
 "metadata": {
  "kernelspec": {
   "display_name": "Python 3 (ipykernel)",
   "language": "python",
   "name": "python3"
  },
  "language_info": {
   "codemirror_mode": {
    "name": "ipython",
    "version": 3
   },
   "file_extension": ".py",
   "mimetype": "text/x-python",
   "name": "python",
   "nbconvert_exporter": "python",
   "pygments_lexer": "ipython3",
   "version": "3.11.1"
  }
 },
 "nbformat": 4,
 "nbformat_minor": 5
}
