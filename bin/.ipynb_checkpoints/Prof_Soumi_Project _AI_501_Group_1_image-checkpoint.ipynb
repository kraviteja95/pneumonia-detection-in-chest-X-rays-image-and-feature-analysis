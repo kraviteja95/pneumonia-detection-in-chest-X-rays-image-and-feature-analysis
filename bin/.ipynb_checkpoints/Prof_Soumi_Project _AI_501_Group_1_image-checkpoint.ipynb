{
 "cells": [
  {
   "cell_type": "markdown",
   "id": "91ae169f",
   "metadata": {},
   "source": [
    "## Read Source Folder Path"
   ]
  },
  {
   "cell_type": "code",
   "execution_count": 6,
   "id": "d90af4e7",
   "metadata": {},
   "outputs": [
    {
     "name": "stdout",
     "output_type": "stream",
     "text": [
      "Enter the root folder path: C:/Users/Soumiz/Downloads/Dummy root\n"
     ]
    }
   ],
   "source": [
    "# The Database Folder Location\n",
    "input_path = input(\"Enter the root folder path: \")\n",
    " #   file_path= 'C:/Users/Soumiz/Downloads/Dummy root'\n"
   ]
  },
  {
   "cell_type": "markdown",
   "id": "f79eacda",
   "metadata": {},
   "source": [
    "### Check Folder Tree Structure"
   ]
  },
  {
   "cell_type": "code",
   "execution_count": 7,
   "id": "4bec6922",
   "metadata": {
    "scrolled": true
   },
   "outputs": [
    {
     "name": "stdout",
     "output_type": "stream",
     "text": [
      "Dummy root\n",
      "|-- level 1_1\n",
      "|   |-- level 1_1_1\n",
      "|   |-- level 1_1_2\n",
      "|-- level 1_2\n",
      "|   |-- level 1_2_1\n",
      "|   |-- level 1_2_2\n"
     ]
    }
   ],
   "source": [
    "import os\n",
    "\n",
    "def list_folders_tree(root_folder, level=0):\n",
    "    prefix = \"|   \" * (level - 1) + \"|-- \" if level > 0 else \"\"\n",
    "    print(f\"{prefix}{os.path.basename(root_folder)}\")\n",
    "\n",
    "    for item in os.listdir(root_folder):\n",
    "        item_path = os.path.join(root_folder, item)\n",
    "        if os.path.isdir(item_path):\n",
    "            list_folders_tree(item_path, level + 1)\n",
    "\n",
    "if __name__ == \"__main__\":\n",
    "    # input_path = input(\"Enter the root folder path: \")\n",
    "    if os.path.isdir(input_path):\n",
    "        list_folders_tree(input_path)\n",
    "    else:\n",
    "        print(f\"The path {input_path} is not a valid directory.\")\n"
   ]
  },
  {
   "cell_type": "markdown",
   "id": "d589fba4",
   "metadata": {},
   "source": [
    "## Check Image Dimensions and Sizes, and Document Results in Separate Sheets of a Single Excel File for Each Folder of Entire Database"
   ]
  },
  {
   "cell_type": "code",
   "execution_count": 8,
   "id": "0601562a",
   "metadata": {},
   "outputs": [
    {
     "name": "stdout",
     "output_type": "stream",
     "text": [
      "Data saved to C:/Users/Soumiz/Downloads\\Dummy root.xlsx\n"
     ]
    }
   ],
   "source": [
    "import os\n",
    "import cv2\n",
    "import pandas as pd\n",
    "\n",
    "def get_image_info(image_path):\n",
    "    # Read the image\n",
    "    image = cv2.imread(image_path, cv2.IMREAD_GRAYSCALE)\n",
    "    if image is None:\n",
    "        return None, None\n",
    "    # Get the dimensions of the image\n",
    "    height, width = image.shape\n",
    "    # Get the grayscale span\n",
    "    min_val = image.min()\n",
    "    max_val = image.max()\n",
    "    return (height, width), (min_val, max_val)\n",
    "\n",
    "def read_folders_and_save_info(path, root_name, level=0):\n",
    "    # Check if the given path is a directory\n",
    "    if not os.path.isdir(path):\n",
    "        print(f\"The path {path} is not a valid directory.\")\n",
    "        return\n",
    "\n",
    "    data_dict = {}\n",
    "\n",
    "    def read_subfolders(current_path, depth, folder_name):\n",
    "        # List all entries in the current directory\n",
    "        with os.scandir(current_path) as entries:\n",
    "            folder_data = []\n",
    "            for entry in entries:\n",
    "                if entry.is_dir():\n",
    "                    # Update the folder name for nested structure\n",
    "                    new_folder_name = folder_name + \"_\" + entry.name\n",
    "                    #                                                     print(f\"Entering directory: {new_folder_name}\")\n",
    "                    # Recurse into the subdirectory\n",
    "                    read_subfolders(entry.path, depth + 1, new_folder_name)\n",
    "                elif entry.is_file():\n",
    "                    # Get image information\n",
    "                    #                                                      print(f\"Processing file: {entry.name} in {folder_name}\")\n",
    "                    image_path = entry.path\n",
    "                    size, span = get_image_info(image_path)\n",
    "                    if size and span:\n",
    "                        folder_data.append({\n",
    "                            \"File Name\": entry.name,\n",
    "                            \"Size1\": size[0],\n",
    "                            \"Size2\": size[1],\n",
    "                            \"Grayscale Span1\": span[0],\n",
    "                            \"Grayscale Span2\": span[1],\n",
    "                            \"Path\": current_path\n",
    "                        })\n",
    "            if folder_data:\n",
    "                #                                           print(f\"Adding data for folder: {folder_name}\")\n",
    "                data_dict[folder_name] = folder_data\n",
    "\n",
    "    # Start reading subfolders from the given path\n",
    "    read_subfolders(path, level, root_name)\n",
    "\n",
    "    # Save data to an Excel file with separate sheets\n",
    "    excel_file_path = os.path.dirname(path)  # Get the parent directory of the root folder\n",
    "    excel_file_name = os.path.join(excel_file_path, root_name + \".xlsx\")\n",
    "    try:\n",
    "        with pd.ExcelWriter(excel_file_name) as writer:\n",
    "            for sheet_name, data in data_dict.items():\n",
    "                # Ensure the sheet name is within the 31-character limit\n",
    "                valid_sheet_name = sheet_name[-31:]  # Keep the last 31 characters\n",
    "                df = pd.DataFrame(data)\n",
    "                df.to_excel(writer, sheet_name=valid_sheet_name, index=False)\n",
    "        print(f\"Data saved to {excel_file_name}\")\n",
    "    except PermissionError:\n",
    "        print(f\"Permission denied: Unable to write to {excel_file_name}. Ensure the file is not open and you have write permissions.\")\n",
    "\n",
    "if __name__ == \"__main__\":\n",
    "    '''# Input path from the user\n",
    "    input_path = input(\"Enter the path to the directory: \")'''\n",
    "    # Extract the root folder name for the file naming\n",
    "    root_name = os.path.basename(os.path.normpath(input_path))\n",
    "    read_folders_and_save_info(input_path, root_name)\n"
   ]
  },
  {
   "cell_type": "markdown",
   "id": "1460d109",
   "metadata": {},
   "source": [
    "### Create Different folders maintaining hierarchy to save processed images "
   ]
  },
  {
   "cell_type": "code",
   "execution_count": 10,
   "id": "251d6411",
   "metadata": {},
   "outputs": [
    {
     "name": "stdout",
     "output_type": "stream",
     "text": [
      "Folders created to save processed images\n"
     ]
    }
   ],
   "source": [
    "import os\n",
    "from pathlib import Path\n",
    "\n",
    "def list_and_create_folders_tree(root_folder, new_root_folder, level=0):\n",
    "    # Display the folder hierarchy\n",
    "    prefix = \"|   \" * (level - 1) + \"|-- \" if level > 0 else \"\"\n",
    "    # print(f\"{prefix}{os.path.basename(root_folder)}\")\n",
    "\n",
    "    # Create the new folder structure with '_nrm' appended to the names\n",
    "    new_folder_name = os.path.basename(root_folder) + \"_nrm\"\n",
    "    new_folder_path = os.path.join(new_root_folder, new_folder_name)\n",
    "    Path(new_folder_path).mkdir(parents=True, exist_ok=True)\n",
    "\n",
    "    for item in os.listdir(root_folder):\n",
    "        item_path = os.path.join(root_folder, item)\n",
    "        if os.path.isdir(item_path):\n",
    "            list_and_create_folders_tree(item_path, new_folder_path, level + 1)\n",
    "\n",
    "if __name__ == \"__main__\":\n",
    "    #input_path = input(\"Enter the root folder path: \")\n",
    "    if os.path.isdir(input_path):\n",
    "        new_root_path = input_path + \"_nrm\"       \n",
    "        list_and_create_folders_tree(input_path, os.path.dirname(new_root_path))\n",
    "    else:\n",
    "        print(f\"The path {input_path} is not a valid directory.\")\n",
    "\n",
    "print(\"Folders created to save processed images\")"
   ]
  },
  {
   "cell_type": "markdown",
   "id": "50b216e9",
   "metadata": {},
   "source": [
    "### Create Uniformity \n",
    "    1. Intensity  --> Normalisation method\n",
    "    2. Size --> Padding method"
   ]
  },
  {
   "cell_type": "markdown",
   "id": "5a48d36f",
   "metadata": {},
   "source": [
    "### Normalization for lossless transformation"
   ]
  },
  {
   "cell_type": "markdown",
   "id": "e55818b6",
   "metadata": {},
   "source": [
    "### Intensity scaling by normalisation\n",
    "\n",
    "\n",
    "Method |\tDescription\t|Loss of Information|\tUse Cases|\n",
    "---------|-----------------|--------------|-----------|\n",
    "Normalization|\tRescales pixel values to a fixed range [0, 255].|\tLow\t| Consistent intensity range while preserving relative differences.\n",
    "Standardization|\tCenters data with mean 0 and standard deviation 1.|\tModerate\t|Preparing data for models that require zero mean and unit variance.\n",
    "Histogram Equalization|\tSpreads pixel values to enhance contrast.\t|Moderate to High|\tEnhancing contrast and visibility of features.\n",
    "Linear Scaling|\tLinearly maps pixel values to a target range.|\tLow\t|Converting intensity values to a desired range while preserving relative differences."
   ]
  },
  {
   "cell_type": "code",
   "execution_count": 11,
   "id": "202108bd",
   "metadata": {
    "scrolled": true
   },
   "outputs": [
    {
     "name": "stdout",
     "output_type": "stream",
     "text": [
      "Enter the path to the directory: C:/Users/Soumiz/Downloads/Dummy root\n",
      "ALL IMAGES ARE NORMALISED\n"
     ]
    }
   ],
   "source": [
    "import os\n",
    "import cv2\n",
    "from pathlib import Path\n",
    "\n",
    "def normalize_image(image):\n",
    "    min_val = image.min()\n",
    "    max_val = image.max()\n",
    "    if max_val > min_val:  # Avoid division by zero\n",
    "        normalized = (image - min_val) / (max_val - min_val) * 255\n",
    "        return normalized.astype('uint8')\n",
    "    else:\n",
    "        return image\n",
    "\n",
    "def normalize_images_in_folders(input_path, output_path):\n",
    "    # Check if the given path is a directory\n",
    "    if not os.path.isdir(input_path):\n",
    "        print(f\"The path {input_path} is not a valid directory.\")\n",
    "        return\n",
    "\n",
    "    def process_subfolders(current_path, current_output_path):\n",
    "        # List all entries in the current directory\n",
    "        with os.scandir(current_path) as entries:\n",
    "            for entry in entries:\n",
    "                if entry.is_dir():\n",
    "                    # Update the output path for the subdirectory\n",
    "                    new_output_path = os.path.join(current_output_path, entry.name + \"_nrm\")\n",
    "                    # Recurse into the subdirectory\n",
    "                    process_subfolders(entry.path, new_output_path)\n",
    "                elif entry.is_file() and entry.name.lower().endswith(('.png', '.jpg', '.jpeg', '.bmp', '.tiff')):\n",
    "                    # Normalize and save the image\n",
    "                    image_path = entry.path\n",
    "                    image = cv2.imread(image_path, cv2.IMREAD_GRAYSCALE)\n",
    "                    if image is not None:\n",
    "                        normalized_image = normalize_image(image)\n",
    "                        # Ensure the output folder exists\n",
    "                        Path(current_output_path).mkdir(parents=True, exist_ok=True)\n",
    "                        # Save the normalized image\n",
    "                        normalized_image_path = os.path.join(current_output_path, entry.name)\n",
    "                        cv2.imwrite(normalized_image_path, normalized_image)\n",
    "\n",
    "    # Start processing subfolders from the given path\n",
    "    process_subfolders(input_path, output_path)\n",
    "\n",
    "if __name__ == \"__main__\":\n",
    "    # Input path from the user\n",
    "    input_path = input(\"Enter the path to the directory: \")\n",
    "    # Determine the output path\n",
    "    output_path = input_path + \"_nrm\"\n",
    "    normalize_images_in_folders(input_path, output_path)\n",
    "\n",
    "print(\"ALL IMAGES ARE NORMALISED\")\n",
    "\n"
   ]
  },
  {
   "cell_type": "markdown",
   "id": "8b3f2f18",
   "metadata": {},
   "source": [
    "## Maximum available Height and Width of the Images in the Dataset\n",
    "\n",
    "#### It is important to retain the size for lossless scalling of images\n",
    "\n",
    "## "
   ]
  },
  {
   "cell_type": "code",
   "execution_count": 12,
   "id": "953809eb",
   "metadata": {},
   "outputs": [
    {
     "name": "stdout",
     "output_type": "stream",
     "text": [
      "Enter the path to the directory: C:/Users/Soumiz/Downloads/Dummy root.xlsx\n",
      "Size1 (height): 1858\n",
      "Size2 (width): 2090\n"
     ]
    }
   ],
   "source": [
    "import pandas as pd\n",
    "\n",
    "# Load the Excel file\n",
    "file_path =  input(\"Enter the path to the directory: \")\n",
    "xls = pd.ExcelFile(file_path)\n",
    "\n",
    "# Initialize variables to keep track of the largest sizes\n",
    "max_size1 = 0\n",
    "max_size2 = 0\n",
    "\n",
    "# Loop through all sheets in the Excel file\n",
    "for sheet_name in xls.sheet_names:\n",
    "    df = pd.read_excel(xls, sheet_name=sheet_name)\n",
    "    max_size1 = max(max_size1, df['Size1'].max())\n",
    "    max_size2 = max(max_size2, df['Size2'].max())\n",
    "\n",
    "print('Size1 (height):',max_size1) # 2713\n",
    "print ('Size2 (width):',max_size2) # 2916 \n",
    "\n",
    "#     C:\\Users\\Soumiz\\Downloads\\ChestXRay2017.xlsx       #"
   ]
  },
  {
   "cell_type": "markdown",
   "id": "9a8ce81f",
   "metadata": {},
   "source": [
    "### Size Scaling by Padding for lossless Transformation\n",
    "\n",
    "\n",
    "\n",
    "Method\t|Visual Loss\t|Data Loss|\tUse Case\n",
    "-------|-------------|-------------|---------\n",
    "Nearest Neighbour|\tHigh|\tMinimal\t|Simple tasks, low quality requirements\n",
    "Bilinear Interpolation|\tModerate|\tModerate|\tSmooth images, general use\n",
    "Bicubic Interpolation|\tLow|\tLow|\tHigh-quality resizing, detail preservation\n",
    "Lanczos Resampling|\tVery Low|\tMinimal|\tProfessional and high-quality applications\n",
    "Cropping|\tHigh|\tHigh|\tFocusing on specific regions\n",
    "Padding\t|None|\tNone|\tEnsures no data loss, uniform size"
   ]
  },
  {
   "cell_type": "code",
   "execution_count": 14,
   "id": "2feb8a0b",
   "metadata": {},
   "outputs": [
    {
     "name": "stdout",
     "output_type": "stream",
     "text": [
      "Enter the final height (size1): 1858\n",
      "Enter the final width (size2): 2090\n",
      "Enter the root folder path: C:/Users/Soumiz/Downloads/Dummy root_nrm\n",
      "Processed: C:/Users/Soumiz/Downloads/Dummy root_nrm\\level 1_1_nrm\\level 1_1_1_nrm\\NORMAL2-IM-1350-0001.jpeg\n",
      "Processed: C:/Users/Soumiz/Downloads/Dummy root_nrm\\level 1_1_nrm\\level 1_1_1_nrm\\person282_virus_579.jpeg\n",
      "Processed: C:/Users/Soumiz/Downloads/Dummy root_nrm\\level 1_1_nrm\\level 1_1_2_nrm\\IM-0721-0001 - Copy.jpeg\n",
      "Processed: C:/Users/Soumiz/Downloads/Dummy root_nrm\\level 1_1_nrm\\level 1_1_2_nrm\\IM-0721-0001.jpeg\n",
      "Processed: C:/Users/Soumiz/Downloads/Dummy root_nrm\\level 1_2_nrm\\level 1_2_1_nrm\\IM-0115-0001 - Copy.jpeg\n",
      "Processed: C:/Users/Soumiz/Downloads/Dummy root_nrm\\level 1_2_nrm\\level 1_2_1_nrm\\IM-0115-0001.jpeg\n",
      "Processed: C:/Users/Soumiz/Downloads/Dummy root_nrm\\level 1_2_nrm\\level 1_2_2_nrm\\IM-0323-0001 - Copy.jpeg\n",
      "Processed: C:/Users/Soumiz/Downloads/Dummy root_nrm\\level 1_2_nrm\\level 1_2_2_nrm\\IM-0323-0001.jpeg\n"
     ]
    }
   ],
   "source": [
    "import os\n",
    "from PIL import Image\n",
    "\n",
    "def resize_and_pad_image(image_path, output_path, size1, size2):\n",
    "    with Image.open(image_path) as img:\n",
    "        # Calculate padding\n",
    "        width, height = img.size\n",
    "        new_width = size2\n",
    "        new_height = size1\n",
    "        \n",
    "        # Create a new image with the desired size and black background\n",
    "        new_img = Image.new(\"RGB\", (new_width, new_height), (0, 0, 0))\n",
    "        \n",
    "        # Calculate position to paste the old image\n",
    "        left = (new_width - width) // 2\n",
    "        top = (new_height - height) // 2\n",
    "        \n",
    "        # Paste the old image onto the new image\n",
    "        new_img.paste(img, (left, top))\n",
    "        \n",
    "        # Save the new image with quality settings\n",
    "        if output_path.lower().endswith('.jpg') or output_path.lower().endswith('.jpeg'):\n",
    "            new_img.save(output_path, format='JPEG', quality=95)  # Adjust quality as needed\n",
    "        else:\n",
    "            new_img.save(output_path)  # For PNG or other formats\n",
    "\n",
    "def process_directory(root_folder_path, size1, size2):\n",
    "    for subdir, _, files in os.walk(root_folder_path):\n",
    "        for file in files:\n",
    "            file_path = os.path.join(subdir, file)\n",
    "            if file.lower().endswith(('.png', '.jpg', '.jpeg')):\n",
    "                output_path = os.path.join(subdir, f\"{file}\")\n",
    "                resize_and_pad_image(file_path, output_path, size1, size2)\n",
    "                print(f\"Processed: {file_path}\")\n",
    "\n",
    "if __name__ == \"__main__\":\n",
    "    # Example usage\n",
    "    height = int(input(\"Enter the final height (size1): \"))\n",
    "    width = int(input(\"Enter the final width (size2): \"))\n",
    "    root_folder = input(\"Enter the root folder path: \")\n",
    "    \n",
    "    process_directory(root_folder, height, width)\n"
   ]
  },
  {
   "cell_type": "code",
   "execution_count": null,
   "id": "89950576",
   "metadata": {},
   "outputs": [],
   "source": []
  }
 ],
 "metadata": {
  "kernelspec": {
   "display_name": "Python 3 (ipykernel)",
   "language": "python",
   "name": "python3"
  },
  "language_info": {
   "codemirror_mode": {
    "name": "ipython",
    "version": 3
   },
   "file_extension": ".py",
   "mimetype": "text/x-python",
   "name": "python",
   "nbconvert_exporter": "python",
   "pygments_lexer": "ipython3",
   "version": "3.11.5"
  }
 },
 "nbformat": 4,
 "nbformat_minor": 5
}
