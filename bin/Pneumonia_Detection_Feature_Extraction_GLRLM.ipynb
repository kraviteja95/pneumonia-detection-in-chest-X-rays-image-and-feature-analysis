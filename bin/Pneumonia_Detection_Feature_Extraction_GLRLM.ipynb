{
 "cells": [
  {
   "cell_type": "markdown",
   "id": "6cc9e262",
   "metadata": {},
   "source": [
    "### Authors: Prof. Dr. Soumi Ray, Ravi Teja Kothuru and Abhay Srivastav\n",
    "\n",
    "### Acknowledgements:\n",
    "I would like to thank my team mates Prof. Dr. Soumi Ray and Abhay Srivastav for their guidance and support throughout this project.\n",
    "\n",
    "**Title of the Project:** Comparative Analysis of Image-Based and Feature-Based Approaches for Pneumonia Detection in Chest X-rays\n",
    "\n",
    "**Description of the Project:** This project focuses on detecting pneumonia from chest X-ray images using Advanced Machine Learning and Deep Learning techniques (Rajpurkar et al., 2017; Wang et al., 2017). By leveraging a comprehensive dataset, including annotated images of pneumonia and normal cases, we aim to develop and compare image-based and feature-based approaches. Our goal is to identify the most effective method for accurate and interpretable pneumonia detection, contributing to improved patient outcomes through early diagnosis and treatment. This model will classify patients based on their chest X-ray images as either having pneumonia (1) or not having pneumonia (0).\n",
    "\n",
    "**Objectives of the Project:** \n",
    "\n",
    "- **Image Analysis:** Develop and evaluate deep learning models to classify chest X-rays directly. This approach leverages deep learning models, particularly Convolutional Neural Networks (CNNs), to perform end-to-end image classification. The models directly process raw chest X-ray images to classify them as normal or pneumonia.\n",
    "\n",
    "- **Feature Analysis:** Extract meaningful features from the images and use them to train and evaluate traditional machine learning models. In this approach, we first extract features from the chest X-ray images. These features are then used as inputs for traditional machine learning algorithms. The process includes steps such as feature extraction, selection, and transformation, followed by the application of machine learning techniques like Support Vector Machines (SVM), Random Forests.\n",
    "\n",
    "**Name of the Dataset:** The dataset used in this project is the Chest X-ray dataset considered from the Research paper named **Labeled Optical Coherence Tomography (OCT) and Chest X-Ray Images for Classification**.\n",
    "\n",
    "**Description of the Dataset:** The Diabetes Health Indicators Dataset contains healthcare statistics and lifestyle survey information about people in general along with their diagnosis of diabetes. The 35 features consist of some demographics, lab test results, and answers to survey questions for each patient. The target variable for classification is whether a patient has diabetes, is pre-diabetic, or healthy.\n",
    "\n",
    "**Dataset Source:** \n",
    "\n",
    "- https://data.mendeley.com/datasets/rscbjbr9sj/2\n",
    "\n",
    "**Type of the Dataset:**\n",
    "\n",
    "- X-ray Images\n",
    "\n",
    "**Description of Dataset:** \n",
    "The considered dataset has the following information for better reference:\n",
    "- Separate folders to train and validate/test the model.\n",
    "- Enough number of Chest X-ray images to train the model to detect and diagnose Pneumonia.\n",
    "- The target variable for classification is whether patient has pneumonia or not.\n",
    "\n",
    "**Goal of the Project using this Dataset:**\n",
    "The goal of this project is to conduct a comprehensive comparative analysis of image-based and feature-based approaches for pneumonia detection using chest X-ray images. By evaluating the performance, robustness, and interpretability of deep learning and traditional machine learning models, we aim to identify the most effective method for accurately classifying chest X-rays as normal or pneumonia. This comparison will provide valuable insights into the strengths and limitations of each approach, ultimately contributing to improved detection and diagnosis of pneumonia, which can enhance patient outcomes and survival rates.\n",
    "\n",
    "**Why did we choose this dataset?**\n",
    "We selected this dataset based on several factors. For more detailed information, please refer to the following:\n",
    "- The dataset is extensive, providing a large number of images suitable for evaluating and training deep learning models.\n",
    "- It aligns well with the project's objectives by offering a challenging and realistic scenario for developing an image classification model using deep learning, specifically for Chest X-ray images.\n",
    "- The dataset is annotated with images of two different diseases, enabling the development of a binary-class classification model.\n",
    "- It is publicly available, facilitating easy access for research and development purposes.\n",
    "\n",
    "**Size of dataset:**\n",
    "- Total images size = 1.27 GB\n",
    "- Dataset has 2 folders:\n",
    "  -  **Train:**\n",
    "    -  Normal (without Pneumonia) = 1349 images\n",
    "    -  Pneumonia = 3884 images\n",
    "  -  **Test:**\n",
    "    -  Normal (without Pneumonia) = 234 images\n",
    "    -  Pneumonia = 390 images\n",
    "    \n",
    "**Expected Behaviors and Problem Handling:**\n",
    "- Classify Chest X-ray images with high accuracy.\n",
    "- Handle variations in image quality, resolution, and orientation.\n",
    "- Be robust to noise and artifacts in the images.\n",
    "- Provide interpretable results.\n",
    "\n",
    "**Issues to focus on:**\n",
    "- Improving model interpretability and explainability.\n",
    "- Optimizing model performance on a held-out test set.\n",
    "- Following AI Ethics and Data Safety practices."
   ]
  },
  {
   "cell_type": "markdown",
   "id": "df009567",
   "metadata": {},
   "source": [
    "# Import all the required files and libraries"
   ]
  },
  {
   "cell_type": "code",
   "execution_count": 1,
   "id": "9ae4c9b7-2485-45cc-9960-60a5e605333b",
   "metadata": {
    "tags": []
   },
   "outputs": [],
   "source": [
    "import os\n",
    "import ssl\n",
    "\n",
    "# Disable SSL certificate verification\n",
    "ssl._create_default_https_context = ssl._create_unverified_context\n",
    "\n",
    "# Automatically reload imported modules when their source code changes\n",
    "%load_ext autoreload\n",
    "%reload_ext autoreload\n",
    "%autoreload 2\n",
    "\n",
    "# Import python files from local to use the corresponding function\n",
    "from cxr_image_features_extraction import CxrImageFeatureExtraction"
   ]
  },
  {
   "cell_type": "markdown",
   "id": "6a7e2134",
   "metadata": {},
   "source": [
    "# Perform Chest X-ray Images Feature Extraction"
   ]
  },
  {
   "cell_type": "markdown",
   "id": "0618bd47",
   "metadata": {},
   "source": [
    "## Create an object of the Image Feature Extraction class"
   ]
  },
  {
   "cell_type": "code",
   "execution_count": 2,
   "id": "945b5aca-630d-4323-9e66-632f331893c1",
   "metadata": {
    "tags": []
   },
   "outputs": [],
   "source": [
    "image_feature_extraction = CxrImageFeatureExtraction()"
   ]
  },
  {
   "cell_type": "markdown",
   "id": "d5362d55",
   "metadata": {},
   "source": [
    "## Fetch the absolute paths of the normalized image dataset"
   ]
  },
  {
   "cell_type": "code",
   "execution_count": 3,
   "id": "a1890f67-dcb5-403c-b312-1dc3b3d59f51",
   "metadata": {
    "tags": []
   },
   "outputs": [
    {
     "name": "stdout",
     "output_type": "stream",
     "text": [
      "Normalized Dataset Path = /Users/ravkothu/Documents/Personal_items_at_Oracle/Master_Degree/University_of_San_Diego/Online_Masters/MS_in_Applied_AI/Subjects_and_Resources/AAI-501_Introduction_to_AI/AAI-501_Final_Team_Project/pneumonia_detection/dataset/chest_xray_nrm\n",
      "\n",
      "Normalized Train Images\n",
      "************************\n",
      "NORMAL = /Users/ravkothu/Documents/Personal_items_at_Oracle/Master_Degree/University_of_San_Diego/Online_Masters/MS_in_Applied_AI/Subjects_and_Resources/AAI-501_Introduction_to_AI/AAI-501_Final_Team_Project/pneumonia_detection/dataset/chest_xray_nrm/train_nrm/NORMAL_nrm\n",
      "\n",
      "PNEUMONIA = /Users/ravkothu/Documents/Personal_items_at_Oracle/Master_Degree/University_of_San_Diego/Online_Masters/MS_in_Applied_AI/Subjects_and_Resources/AAI-501_Introduction_to_AI/AAI-501_Final_Team_Project/pneumonia_detection/dataset/chest_xray_nrm/train_nrm/PNEUMONIA_nrm\n",
      "\n",
      "\n",
      "Normalized Test Images\n",
      "***************************\n",
      "NORMAL = /Users/ravkothu/Documents/Personal_items_at_Oracle/Master_Degree/University_of_San_Diego/Online_Masters/MS_in_Applied_AI/Subjects_and_Resources/AAI-501_Introduction_to_AI/AAI-501_Final_Team_Project/pneumonia_detection/dataset/chest_xray_nrm/test_nrm/NORMAL_nrm\n",
      "\n",
      "PNEUMONIA = /Users/ravkothu/Documents/Personal_items_at_Oracle/Master_Degree/University_of_San_Diego/Online_Masters/MS_in_Applied_AI/Subjects_and_Resources/AAI-501_Introduction_to_AI/AAI-501_Final_Team_Project/pneumonia_detection/dataset/chest_xray_nrm/test_nrm/PNEUMONIA_nrm\n"
     ]
    }
   ],
   "source": [
    "# Define the path to the dataset\n",
    "dataset_path = image_feature_extraction.get_base_path_of_dataset() + \"_nrm\"\n",
    "print(f\"Normalized Dataset Path = {dataset_path}\")\n",
    "\n",
    "# Fetch train, test, NORMAL and PNEUMONIA folder names\n",
    "train_folder_name = str(image_feature_extraction.train_test_image_dirs[0])\n",
    "test_folder_name = str(image_feature_extraction.train_test_image_dirs[1])\n",
    "\n",
    "normal_img_folder_name = str(image_feature_extraction.normal_pneumonia_image_dirs[0])\n",
    "pneumonia_img_folder_name = str(image_feature_extraction.normal_pneumonia_image_dirs[1])\n",
    "\n",
    "# Define the paths to the train and test datasets\n",
    "# Train\n",
    "train_normal = os.path.join(dataset_path, train_folder_name + \"_nrm\", normal_img_folder_name + \"_nrm\")\n",
    "train_pneumonia = os.path.join(dataset_path, train_folder_name + \"_nrm\", pneumonia_img_folder_name + \"_nrm\")\n",
    "\n",
    "# Test\n",
    "test_normal = os.path.join(dataset_path, test_folder_name + \"_nrm\", normal_img_folder_name + \"_nrm\")\n",
    "test_pneumonia = os.path.join(dataset_path, test_folder_name + \"_nrm\", pneumonia_img_folder_name + \"_nrm\")\n",
    "\n",
    "# Print the paths to the train and test datasets\n",
    "print(\"\\nNormalized Train Images\")\n",
    "print(\"************************\")\n",
    "print(f\"NORMAL = {train_normal}\")\n",
    "print(f\"\\nPNEUMONIA = {train_pneumonia}\")\n",
    "\n",
    "print(\"\\n\\nNormalized Test Images\")\n",
    "print(\"***************************\")\n",
    "print(f\"NORMAL = {test_normal}\")\n",
    "print(f\"\\nPNEUMONIA = {test_pneumonia}\")"
   ]
  },
  {
   "cell_type": "markdown",
   "id": "86e9ca5e",
   "metadata": {},
   "source": [
    "## Convert all Normalized image folder absolute paths to a list"
   ]
  },
  {
   "cell_type": "code",
   "execution_count": 4,
   "id": "df2824e1-00db-44ab-98bc-1f8a12464d4b",
   "metadata": {
    "tags": []
   },
   "outputs": [
    {
     "data": {
      "text/plain": [
       "['/Users/ravkothu/Documents/Personal_items_at_Oracle/Master_Degree/University_of_San_Diego/Online_Masters/MS_in_Applied_AI/Subjects_and_Resources/AAI-501_Introduction_to_AI/AAI-501_Final_Team_Project/pneumonia_detection/dataset/chest_xray_nrm/train_nrm/NORMAL_nrm',\n",
       " '/Users/ravkothu/Documents/Personal_items_at_Oracle/Master_Degree/University_of_San_Diego/Online_Masters/MS_in_Applied_AI/Subjects_and_Resources/AAI-501_Introduction_to_AI/AAI-501_Final_Team_Project/pneumonia_detection/dataset/chest_xray_nrm/train_nrm/PNEUMONIA_nrm',\n",
       " '/Users/ravkothu/Documents/Personal_items_at_Oracle/Master_Degree/University_of_San_Diego/Online_Masters/MS_in_Applied_AI/Subjects_and_Resources/AAI-501_Introduction_to_AI/AAI-501_Final_Team_Project/pneumonia_detection/dataset/chest_xray_nrm/test_nrm/NORMAL_nrm',\n",
       " '/Users/ravkothu/Documents/Personal_items_at_Oracle/Master_Degree/University_of_San_Diego/Online_Masters/MS_in_Applied_AI/Subjects_and_Resources/AAI-501_Introduction_to_AI/AAI-501_Final_Team_Project/pneumonia_detection/dataset/chest_xray_nrm/test_nrm/PNEUMONIA_nrm']"
      ]
     },
     "execution_count": 4,
     "metadata": {},
     "output_type": "execute_result"
    }
   ],
   "source": [
    "image_normalized_folders = [\n",
    "    train_normal, train_pneumonia,\n",
    "    test_normal, test_pneumonia\n",
    "]\n",
    "\n",
    "image_normalized_folders"
   ]
  },
  {
   "cell_type": "markdown",
   "id": "4b0ea88a",
   "metadata": {},
   "source": [
    "### Extract Second Order GLRLM Features of All Images and Write Into the Existing Excel File\n",
    "\n",
    "1. **Short Run Emphasis (SRE)**\n",
    "\n",
    "   **Definition**: Measures the distribution of short runs in the image. \n",
    "\n",
    "   **Formula**:\n",
    "   $$\n",
    "   \\text{SRE} = \\frac{\\sum_{i=1}^{G} \\sum_{j=1}^{R} p(i,j)}{\\sum_{i=1}^{G} \\sum_{j=1}^{R} p(i,j) \\cdot j}\n",
    "   $$\n",
    "\n",
    "2. **Long Run Emphasis (LRE)**\n",
    "\n",
    "   **Definition**: Measures the distribution of long runs in the image.\n",
    "\n",
    "   **Formula**:\n",
    "   $$\n",
    "   \\text{LRE} = \\frac{\\sum_{i=1}^{G} \\sum_{j=R-1}^{R} p(i,j)}{\\sum_{i=1}^{G} \\sum_{j=1}^{R} p(i,j)}\n",
    "   $$\n",
    "\n",
    "3. **Gray Level Non-Uniformity (GLN)**\n",
    "\n",
    "   **Definition**: Measures the non-uniformity of gray levels in the image.\n",
    "\n",
    "   **Formula**:\n",
    "   $$\n",
    "   \\text{GLN} = \\frac{\\sum_{i=1}^{G} \\left(\\sum_{j=1}^{R} p(i,j)\\right)^2}{\\sum_{i=1}^{G} \\sum_{j=1}^{R} p(i,j)}\n",
    "   $$\n",
    "\n",
    "4. **Run Length Non-Uniformity (RLN)**\n",
    "\n",
    "   **Definition**: Measures the non-uniformity of run lengths in the image.\n",
    "\n",
    "   **Formula**:\n",
    "   $$\n",
    "   \\text{RLN} = \\frac{\\sum_{j=1}^{R} \\left(\\sum_{i=1}^{G} p(i,j)\\right)^2}{\\sum_{i=1}^{G} \\sum_{j=1}^{R} p(i,j)}\n",
    "   $$\n",
    "\n",
    "5. **Run Percentage (RP)**\n",
    "\n",
    "   **Definition**: Measures the percentage of runs in the image.\n",
    "\n",
    "   **Formula**:\n",
    "   $$\n",
    "   \\text{RP} = \\frac{\\sum_{i=1}^{G} \\sum_{j=1}^{R} p(i,j)}{N}\n",
    "   $$\n",
    "   where \\( N \\) is the total number of pixels in the image.\n",
    "\n",
    "6. **Low Gray Level Run Emphasis (LGLRE)**\n",
    "\n",
    "   **Definition**: Measures the distribution of low gray level runs in the image.\n",
    "\n",
    "   **Formula**:\n",
    "   $$\n",
    "   \\text{LGLRE} = \\frac{\\sum_{i=1}^{G} \\sum_{j=1}^{R} \\frac{p(i,j)}{i^2}}{\\sum_{i=1}^{G} \\sum_{j=1}^{R} p(i,j)}\n",
    "   $$\n",
    "\n",
    "7. **High Gray Level Run Emphasis (HGLRE)**\n",
    "\n",
    "   **Definition**: Measures the distribution of high gray level runs in the image.\n",
    "\n",
    "   **Formula**:\n",
    "   $$\n",
    "   \\text{HGLRE} = \\frac{\\sum_{i=1}^{G} \\sum_{j=1}^{R} p(i,j) \\cdot i^2}{\\sum_{i=1}^{G} \\sum_{j=1}^{R} p(i,j)}\n",
    "   $$\n",
    "\n",
    "8. **Short Run Low Gray Level Emphasis (SRLGLE)**\n",
    "\n",
    "   **Definition**: Measures the distribution of short runs with low gray levels in the image.\n",
    "\n",
    "   **Formula**:\n",
    "   $$\n",
    "   \\text{SRLGLE} = \\frac{\\sum_{i=1}^{G} \\sum_{j=1}^{2} \\frac{p(i,j)}{i^2}}{\\sum_{i=1}^{G} \\sum_{j=1}^{R} p(i,j)}\n",
    "   $$\n",
    "\n",
    "9. **Short Run High Gray Level Emphasis (SRHGLE)**\n",
    "\n",
    "   **Definition**: Measures the distribution of short runs with high gray levels in the image.\n",
    "\n",
    "   **Formula**:\n",
    "   $$\n",
    "   \\text{SRHGLE} = \\frac{\\sum_{i=1}^{G} \\sum_{j=1}^{2} p(i,j) \\cdot i^2}{\\sum_{i=1}^{G} \\sum_{j=1}^{R} p(i,j)}\n",
    "   $$\n",
    "\n",
    "10. **Long Run Low Gray Level Emphasis (LRLGLE)**\n",
    "\n",
    "    **Definition**: Measures the distribution of long runs with low gray levels in the image.\n",
    "\n",
    "    **Formula**:\n",
    "    $$\n",
    "    \\text{LRLGLE} = \\frac{\\sum_{i=1}^{G} \\sum_{j=R-1}^{R} \\frac{p(i,j)}{i^2}}{\\sum_{i=1}^{G} \\sum_{j=1}^{R} p(i,j)}\n",
    "    $$\n",
    "\n",
    "11. **Long Run High Gray Level Emphasis (LRHGLE)**\n",
    "\n",
    "    **Definition**: Measures the distribution of long runs with high gray levels in the image.\n",
    "\n",
    "    **Formula**:\n",
    "    $$\n",
    "    \\text{LRHGLE} = \\frac{\\sum_{i=1}^{G} \\sum_{j=R-1}^{R} p(i,j) \\cdot i^2}{\\sum_{i=1}^{G} \\sum_{j=1}^{R} p(i,j)}\n",
    "    $$\n",
    "\n",
    "12. **Run Variance (RV)**\n",
    "\n",
    "    **Definition**: Measures the variance of run lengths in the image.\n",
    "\n",
    "    **Formula**:\n",
    "    $$\n",
    "    \\text{RV} = \\frac{\\sum_{i=1}^{G} \\sum_{j=1}^{R} p(i,j) \\cdot (j - \\mu)^2}{\\sum_{i=1}^{G} \\sum_{j=1}^{R} p(i,j)}\n",
    "    $$\n",
    "    where \\( \\mu \\) is the mean run length.\n",
    "\n",
    "13. **Run Entropy (RE)**\n",
    "\n",
    "    **Definition**: Measures the entropy of run lengths in the image.\n",
    "\n",
    "    **Formula**:\n",
    "    $$\n",
    "    \\text{RE} = -\\sum_{i=1}^{G} \\sum_{j=1}^{R} p(i,j) \\cdot \\log_2 p(i,j)\n",
    "    $$\n",
    "\n",
    "14. **Difference Average (DA)**\n",
    "\n",
    "    **Definition**: Measures the average difference between gray levels in the image.\n",
    "\n",
    "    **Formula**:\n",
    "    $$\n",
    "    \\text{DA} = \\frac{\\sum_{i=1}^{G} \\sum_{j=1}^{G} p(i,j) \\cdot |i-j|}{\\sum_{i=1}^{G} \\sum_{j=1}^{G} p(i,j)}\n",
    "    $$\n",
    "\n",
    "15. **Difference Variance (DV)**\n",
    "\n",
    "    **Definition**: Measures the variance of differences between gray levels in the image.\n",
    "\n",
    "    **Formula**:\n",
    "    $$\n",
    "    \\text{DV} = \\frac{\\sum_{i=1}^{G} \\sum_{j=1}^{G} p(i,j) \\cdot (|i-j| - \\mu)^2}{\\sum_{i=1}^{G} \\sum_{j=1}^{G} p(i,j)}\n",
    "    $$\n",
    "    where \\( \\mu \\) is the mean difference.\n",
    "\n",
    "16. **Difference Entropy (DE)**\n",
    "\n",
    "    **Definition**: Measures the entropy of differences between gray levels in the image.\n",
    "\n",
    "    **Formula**:\n",
    "    $$\n",
    "    \\text{DE} = -\\sum_{i=1}^{G} \\sum_{j=1}^{G} p(i,j) \\cdot \\log_2 p(i,j)\n",
    "    $$\n",
    "\n",
    "17. **Number of Runs**\n",
    "\n",
    "    **Definition**: The total number of runs in the image.\n",
    "\n",
    "    **Formula**:\n",
    "    $$\n",
    "    \\text{Num_of_runs} = \\sum_{i=1}^{G} \\sum_{j=1}^{R} p(i,j)\n",
    "    $$\n",
    "\n",
    "18. **Number of Pixels**\n",
    "\n",
    "    **Definition**: The total number of pixels in the image.\n",
    "\n",
    "    **Formula**:\n",
    "    $$\n",
    "    \\text{Num_of_pixels} = \\text{Image_Height} \\times \\text{Image_Width}\n",
    "    $$"
   ]
  },
  {
   "cell_type": "code",
   "execution_count": 5,
   "id": "5f6290da-bbe3-4b2f-8b31-d8d524f7e18e",
   "metadata": {
    "tags": []
   },
   "outputs": [
    {
     "name": "stdout",
     "output_type": "stream",
     "text": [
      "Extracted GLRLM features will be saved to - /Users/ravkothu/Documents/Personal_items_at_Oracle/Master_Degree/University_of_San_Diego/Online_Masters/MS_in_Applied_AI/Subjects_and_Resources/AAI-501_Introduction_to_AI/AAI-501_Final_Team_Project/pneumonia_detection/image_information/chest_xray_images_second_order_features_glrlm.xlsx\n",
      "\n",
      "\n",
      "Extracting second-order features GLRLM from: /Users/ravkothu/Documents/Personal_items_at_Oracle/Master_Degree/University_of_San_Diego/Online_Masters/MS_in_Applied_AI/Subjects_and_Resources/AAI-501_Introduction_to_AI/AAI-501_Final_Team_Project/pneumonia_detection/dataset/chest_xray_nrm/train_nrm/NORMAL_nrm\n"
     ]
    },
    {
     "name": "stderr",
     "output_type": "stream",
     "text": [
      "Folder: train_nrm/NORMAL_nrm:  27%|██████████████▋                                        | 360/1349 [01:39<04:50,  3.40it/s]/Library/Frameworks/Python.framework/Versions/3.10/lib/python3.10/site-packages/joblib/externals/loky/process_executor.py:752: UserWarning: A worker stopped while some jobs were given to the executor. This can be caused by a too short worker timeout or by a memory leak.\n",
      "  warnings.warn(\n",
      "Folder: train_nrm/NORMAL_nrm: 100%|██████████████████████████████████████████████████████| 1349/1349 [06:31<00:00,  3.44it/s]\n"
     ]
    },
    {
     "name": "stdout",
     "output_type": "stream",
     "text": [
      "Extracting second-order features GLRLM from: /Users/ravkothu/Documents/Personal_items_at_Oracle/Master_Degree/University_of_San_Diego/Online_Masters/MS_in_Applied_AI/Subjects_and_Resources/AAI-501_Introduction_to_AI/AAI-501_Final_Team_Project/pneumonia_detection/dataset/chest_xray_nrm/train_nrm/PNEUMONIA_nrm\n"
     ]
    },
    {
     "name": "stderr",
     "output_type": "stream",
     "text": [
      "Folder: train_nrm/PNEUMONIA_nrm: 100%|███████████████████████████████████████████████████| 3883/3883 [07:46<00:00,  8.32it/s]\n"
     ]
    },
    {
     "name": "stdout",
     "output_type": "stream",
     "text": [
      "Extracting second-order features GLRLM from: /Users/ravkothu/Documents/Personal_items_at_Oracle/Master_Degree/University_of_San_Diego/Online_Masters/MS_in_Applied_AI/Subjects_and_Resources/AAI-501_Introduction_to_AI/AAI-501_Final_Team_Project/pneumonia_detection/dataset/chest_xray_nrm/test_nrm/NORMAL_nrm\n"
     ]
    },
    {
     "name": "stderr",
     "output_type": "stream",
     "text": [
      "Folder: test_nrm/NORMAL_nrm: 100%|█████████████████████████████████████████████████████████| 234/234 [01:07<00:00,  3.49it/s]\n"
     ]
    },
    {
     "name": "stdout",
     "output_type": "stream",
     "text": [
      "Extracting second-order features GLRLM from: /Users/ravkothu/Documents/Personal_items_at_Oracle/Master_Degree/University_of_San_Diego/Online_Masters/MS_in_Applied_AI/Subjects_and_Resources/AAI-501_Introduction_to_AI/AAI-501_Final_Team_Project/pneumonia_detection/dataset/chest_xray_nrm/test_nrm/PNEUMONIA_nrm\n"
     ]
    },
    {
     "name": "stderr",
     "output_type": "stream",
     "text": [
      "Folder: test_nrm/PNEUMONIA_nrm: 100%|██████████████████████████████████████████████████████| 390/390 [00:38<00:00, 10.05it/s]\n"
     ]
    },
    {
     "name": "stdout",
     "output_type": "stream",
     "text": [
      "\n",
      "\n",
      "All first-order features are extracted to the Excel file: /Users/ravkothu/Documents/Personal_items_at_Oracle/Master_Degree/University_of_San_Diego/Online_Masters/MS_in_Applied_AI/Subjects_and_Resources/AAI-501_Introduction_to_AI/AAI-501_Final_Team_Project/pneumonia_detection/image_information/chest_xray_images_second_order_features_glrlm.xlsx\n",
      "Please check the Excel file for further analysis and interpretation\n"
     ]
    }
   ],
   "source": [
    "image_feature_extraction.update_second_order_glrlm_features_to_excel_file(folders=image_normalized_folders)"
   ]
  },
  {
   "cell_type": "code",
   "execution_count": null,
   "id": "58733928-619c-4c20-bc8c-01d28940feab",
   "metadata": {},
   "outputs": [],
   "source": []
  }
 ],
 "metadata": {
  "kernelspec": {
   "display_name": "Python 3 (ipykernel)",
   "language": "python",
   "name": "python3"
  },
  "language_info": {
   "codemirror_mode": {
    "name": "ipython",
    "version": 3
   },
   "file_extension": ".py",
   "mimetype": "text/x-python",
   "name": "python",
   "nbconvert_exporter": "python",
   "pygments_lexer": "ipython3",
   "version": "3.10.4"
  }
 },
 "nbformat": 4,
 "nbformat_minor": 5
}
